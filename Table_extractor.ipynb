{
  "cells": [
    {
      "cell_type": "code",
      "source": [
        "from PIL import Image\n",
        "import cv2\n",
        "import numpy as np\n",
        "import pandas as pd \n",
        "import tensorflow as tf"
      ],
      "metadata": {
        "id": "mhEjVUbiUytV"
      },
      "execution_count": 1,
      "outputs": []
    },
    {
      "cell_type": "code",
      "source": [
        "#!pip install paddlepaddle-gpu==2.3.2 cudatoolkit==10.2"
      ],
      "metadata": {
        "id": "JejuCeNXHckg"
      },
      "execution_count": null,
      "outputs": []
    },
    {
      "cell_type": "code",
      "source": [
        "!pip install paddlepaddle-gpu==2.3.0.post110 -f https://www.paddlepaddle.org.cn/whl/linux/mkl/avx/stable.html"
      ],
      "metadata": {
        "colab": {
          "base_uri": "https://localhost:8080/"
        },
        "id": "xWhdOt9Jay6z",
        "outputId": "daeb6455-bfe1-4f34-c7f6-385944e60044"
      },
      "execution_count": 2,
      "outputs": [
        {
          "output_type": "stream",
          "name": "stdout",
          "text": [
            "Looking in indexes: https://pypi.org/simple, https://us-python.pkg.dev/colab-wheels/public/simple/\n",
            "Looking in links: https://www.paddlepaddle.org.cn/whl/linux/mkl/avx/stable.html\n",
            "Collecting paddlepaddle-gpu==2.3.0.post110\n",
            "  Downloading https://paddle-wheel.bj.bcebos.com/2.3.0/linux/linux-gpu-cuda11.0-cudnn8-mkl-gcc8.2-avx/paddlepaddle_gpu-2.3.0.post110-cp310-cp310-linux_x86_64.whl (532.9 MB)\n",
            "\u001b[2K     \u001b[90m━━━━━━━━━━━━━━━━━━━━━━━━━━━━━━━━━━━━━━━\u001b[0m \u001b[32m532.9/532.9 MB\u001b[0m \u001b[31m2.9 MB/s\u001b[0m eta \u001b[36m0:00:00\u001b[0m\n",
            "\u001b[?25hRequirement already satisfied: requests>=2.20.0 in /usr/local/lib/python3.10/dist-packages (from paddlepaddle-gpu==2.3.0.post110) (2.27.1)\n",
            "Requirement already satisfied: numpy>=1.13 in /usr/local/lib/python3.10/dist-packages (from paddlepaddle-gpu==2.3.0.post110) (1.22.4)\n",
            "Requirement already satisfied: protobuf>=3.1.0 in /usr/local/lib/python3.10/dist-packages (from paddlepaddle-gpu==2.3.0.post110) (3.20.3)\n",
            "Requirement already satisfied: Pillow in /usr/local/lib/python3.10/dist-packages (from paddlepaddle-gpu==2.3.0.post110) (8.4.0)\n",
            "Requirement already satisfied: six in /usr/local/lib/python3.10/dist-packages (from paddlepaddle-gpu==2.3.0.post110) (1.16.0)\n",
            "Requirement already satisfied: decorator in /usr/local/lib/python3.10/dist-packages (from paddlepaddle-gpu==2.3.0.post110) (4.4.2)\n",
            "Collecting astor (from paddlepaddle-gpu==2.3.0.post110)\n",
            "  Downloading astor-0.8.1-py2.py3-none-any.whl (27 kB)\n",
            "Collecting paddle-bfloat==0.1.2 (from paddlepaddle-gpu==2.3.0.post110)\n",
            "  Downloading paddle_bfloat-0.1.2-cp310-cp310-manylinux_2_5_x86_64.manylinux1_x86_64.manylinux_2_12_x86_64.manylinux2010_x86_64.whl (375 kB)\n",
            "\u001b[2K     \u001b[90m━━━━━━━━━━━━━━━━━━━━━━━━━━━━━━━━━━━━━━\u001b[0m \u001b[32m375.7/375.7 kB\u001b[0m \u001b[31m36.2 MB/s\u001b[0m eta \u001b[36m0:00:00\u001b[0m\n",
            "\u001b[?25hRequirement already satisfied: opt-einsum==3.3.0 in /usr/local/lib/python3.10/dist-packages (from paddlepaddle-gpu==2.3.0.post110) (3.3.0)\n",
            "Requirement already satisfied: urllib3<1.27,>=1.21.1 in /usr/local/lib/python3.10/dist-packages (from requests>=2.20.0->paddlepaddle-gpu==2.3.0.post110) (1.26.15)\n",
            "Requirement already satisfied: certifi>=2017.4.17 in /usr/local/lib/python3.10/dist-packages (from requests>=2.20.0->paddlepaddle-gpu==2.3.0.post110) (2022.12.7)\n",
            "Requirement already satisfied: charset-normalizer~=2.0.0 in /usr/local/lib/python3.10/dist-packages (from requests>=2.20.0->paddlepaddle-gpu==2.3.0.post110) (2.0.12)\n",
            "Requirement already satisfied: idna<4,>=2.5 in /usr/local/lib/python3.10/dist-packages (from requests>=2.20.0->paddlepaddle-gpu==2.3.0.post110) (3.4)\n",
            "Installing collected packages: paddle-bfloat, astor, paddlepaddle-gpu\n",
            "Successfully installed astor-0.8.1 paddle-bfloat-0.1.2 paddlepaddle-gpu-2.3.0.post110\n"
          ]
        }
      ]
    },
    {
      "cell_type": "markdown",
      "metadata": {
        "id": "dvKiMyj2feUe"
      },
      "source": [
        "# pdf2image"
      ]
    },
    {
      "cell_type": "markdown",
      "source": [
        "## Installation"
      ],
      "metadata": {
        "id": "aIz56VvlWkf-"
      }
    },
    {
      "cell_type": "code",
      "source": [
        "!pip install pdf2image\n",
        "!apt-get update\n",
        "!apt-get install poppler-utils"
      ],
      "metadata": {
        "colab": {
          "base_uri": "https://localhost:8080/"
        },
        "id": "biSgyAkWnUD3",
        "outputId": "65542370-ca7a-4ff9-9be2-7a95fe5abc56"
      },
      "execution_count": 3,
      "outputs": [
        {
          "output_type": "stream",
          "name": "stdout",
          "text": [
            "Looking in indexes: https://pypi.org/simple, https://us-python.pkg.dev/colab-wheels/public/simple/\n",
            "Collecting pdf2image\n",
            "  Downloading pdf2image-1.16.3-py3-none-any.whl (11 kB)\n",
            "Requirement already satisfied: pillow in /usr/local/lib/python3.10/dist-packages (from pdf2image) (8.4.0)\n",
            "Installing collected packages: pdf2image\n",
            "Successfully installed pdf2image-1.16.3\n",
            "Get:1 https://cloud.r-project.org/bin/linux/ubuntu focal-cran40/ InRelease [3,622 B]\n",
            "Hit:2 https://developer.download.nvidia.com/compute/cuda/repos/ubuntu2004/x86_64  InRelease\n",
            "Get:3 http://security.ubuntu.com/ubuntu focal-security InRelease [114 kB]\n",
            "Get:4 http://ppa.launchpad.net/c2d4u.team/c2d4u4.0+/ubuntu focal InRelease [18.1 kB]\n",
            "Hit:5 http://archive.ubuntu.com/ubuntu focal InRelease\n",
            "Get:6 http://archive.ubuntu.com/ubuntu focal-updates InRelease [114 kB]\n",
            "Hit:7 http://ppa.launchpad.net/cran/libgit2/ubuntu focal InRelease\n",
            "Hit:8 http://ppa.launchpad.net/deadsnakes/ppa/ubuntu focal InRelease\n",
            "Get:9 http://security.ubuntu.com/ubuntu focal-security/universe amd64 Packages [1,051 kB]\n",
            "Hit:10 http://ppa.launchpad.net/graphics-drivers/ppa/ubuntu focal InRelease\n",
            "Get:11 http://archive.ubuntu.com/ubuntu focal-backports InRelease [108 kB]\n",
            "Hit:12 http://ppa.launchpad.net/ubuntugis/ppa/ubuntu focal InRelease\n",
            "Get:13 http://archive.ubuntu.com/ubuntu focal-updates/universe amd64 Packages [1,346 kB]\n",
            "Get:14 http://ppa.launchpad.net/c2d4u.team/c2d4u4.0+/ubuntu focal/main Sources [2,581 kB]\n",
            "Get:15 http://archive.ubuntu.com/ubuntu focal-updates/main amd64 Packages [3,202 kB]\n",
            "Get:16 http://ppa.launchpad.net/c2d4u.team/c2d4u4.0+/ubuntu focal/main amd64 Packages [1,218 kB]\n",
            "Fetched 9,755 kB in 5s (1,797 kB/s)\n",
            "Reading package lists... Done\n",
            "Reading package lists... Done\n",
            "Building dependency tree       \n",
            "Reading state information... Done\n",
            "The following NEW packages will be installed:\n",
            "  poppler-utils\n",
            "0 upgraded, 1 newly installed, 0 to remove and 34 not upgraded.\n",
            "Need to get 174 kB of archives.\n",
            "After this operation, 754 kB of additional disk space will be used.\n",
            "Get:1 http://archive.ubuntu.com/ubuntu focal-updates/main amd64 poppler-utils amd64 0.86.1-0ubuntu1.1 [174 kB]\n",
            "Fetched 174 kB in 1s (136 kB/s)\n",
            "Selecting previously unselected package poppler-utils.\n",
            "(Reading database ... 122545 files and directories currently installed.)\n",
            "Preparing to unpack .../poppler-utils_0.86.1-0ubuntu1.1_amd64.deb ...\n",
            "Unpacking poppler-utils (0.86.1-0ubuntu1.1) ...\n",
            "Setting up poppler-utils (0.86.1-0ubuntu1.1) ...\n",
            "Processing triggers for man-db (2.9.1-1) ...\n"
          ]
        }
      ]
    },
    {
      "cell_type": "markdown",
      "source": [
        "## Conversion"
      ],
      "metadata": {
        "id": "pLaguCz1WmF9"
      }
    },
    {
      "cell_type": "code",
      "source": [
        "from pdf2image import convert_from_path"
      ],
      "metadata": {
        "id": "HI1dzCGmkeWI"
      },
      "execution_count": 4,
      "outputs": []
    },
    {
      "cell_type": "code",
      "source": [
        "images = convert_from_path('/test.pdf')"
      ],
      "metadata": {
        "id": "xyhjFgqjkgG7"
      },
      "execution_count": 7,
      "outputs": []
    },
    {
      "cell_type": "code",
      "source": [
        "!mkdir pages"
      ],
      "metadata": {
        "id": "M5hBWxpskgJW"
      },
      "execution_count": 8,
      "outputs": []
    },
    {
      "cell_type": "code",
      "source": [
        "for i in range(len(images)):\n",
        "  images[i].save('pages/page'+str(i)+'.jpg', 'JPEG')"
      ],
      "metadata": {
        "id": "7mlH9ltkkgMB"
      },
      "execution_count": 9,
      "outputs": []
    },
    {
      "cell_type": "markdown",
      "source": [
        "# Layout"
      ],
      "metadata": {
        "id": "Urwb7Q_OZC8t"
      }
    },
    {
      "cell_type": "markdown",
      "source": [
        "## Installation"
      ],
      "metadata": {
        "id": "vTkwQbF4FZPN"
      }
    },
    {
      "cell_type": "code",
      "source": [
        "#!python3 -m pip install paddlepaddle-gpu\n",
        "!pip install \"paddleocr>=2.0.1\"\n",
        "!pip install protobuf==3.20.0\n",
        "!git clone https://github.com/PaddlePaddle/PaddleOCR.git"
      ],
      "metadata": {
        "colab": {
          "base_uri": "https://localhost:8080/",
          "height": 1000
        },
        "id": "R0lRpQLkIpbZ",
        "outputId": "a4b65ffd-fc4d-4e4d-bc34-2fcafae91c57"
      },
      "execution_count": 10,
      "outputs": [
        {
          "output_type": "stream",
          "name": "stdout",
          "text": [
            "Looking in indexes: https://pypi.org/simple, https://us-python.pkg.dev/colab-wheels/public/simple/\n",
            "Collecting paddleocr>=2.0.1\n",
            "  Downloading paddleocr-2.6.1.3-py3-none-any.whl (445 kB)\n",
            "\u001b[2K     \u001b[90m━━━━━━━━━━━━━━━━━━━━━━━━━━━━━━━━━━━━━━\u001b[0m \u001b[32m445.9/445.9 kB\u001b[0m \u001b[31m29.7 MB/s\u001b[0m eta \u001b[36m0:00:00\u001b[0m\n",
            "\u001b[?25hRequirement already satisfied: shapely in /usr/local/lib/python3.10/dist-packages (from paddleocr>=2.0.1) (2.0.1)\n",
            "Requirement already satisfied: scikit-image in /usr/local/lib/python3.10/dist-packages (from paddleocr>=2.0.1) (0.19.3)\n",
            "Requirement already satisfied: imgaug in /usr/local/lib/python3.10/dist-packages (from paddleocr>=2.0.1) (0.4.0)\n",
            "Collecting pyclipper (from paddleocr>=2.0.1)\n",
            "  Downloading pyclipper-1.3.0.post4-cp310-cp310-manylinux_2_12_x86_64.manylinux2010_x86_64.whl (813 kB)\n",
            "\u001b[2K     \u001b[90m━━━━━━━━━━━━━━━━━━━━━━━━━━━━━━━━━━━━━━\u001b[0m \u001b[32m813.9/813.9 kB\u001b[0m \u001b[31m60.1 MB/s\u001b[0m eta \u001b[36m0:00:00\u001b[0m\n",
            "\u001b[?25hCollecting lmdb (from paddleocr>=2.0.1)\n",
            "  Downloading lmdb-1.4.1-cp310-cp310-manylinux_2_17_x86_64.manylinux2014_x86_64.whl (299 kB)\n",
            "\u001b[2K     \u001b[90m━━━━━━━━━━━━━━━━━━━━━━━━━━━━━━━━━━━━━━\u001b[0m \u001b[32m299.2/299.2 kB\u001b[0m \u001b[31m32.8 MB/s\u001b[0m eta \u001b[36m0:00:00\u001b[0m\n",
            "\u001b[?25hRequirement already satisfied: tqdm in /usr/local/lib/python3.10/dist-packages (from paddleocr>=2.0.1) (4.65.0)\n",
            "Requirement already satisfied: numpy in /usr/local/lib/python3.10/dist-packages (from paddleocr>=2.0.1) (1.22.4)\n",
            "Collecting visualdl (from paddleocr>=2.0.1)\n",
            "  Downloading visualdl-2.5.2-py3-none-any.whl (6.3 MB)\n",
            "\u001b[2K     \u001b[90m━━━━━━━━━━━━━━━━━━━━━━━━━━━━━━━━━━━━━━━━\u001b[0m \u001b[32m6.3/6.3 MB\u001b[0m \u001b[31m113.5 MB/s\u001b[0m eta \u001b[36m0:00:00\u001b[0m\n",
            "\u001b[?25hCollecting rapidfuzz (from paddleocr>=2.0.1)\n",
            "  Downloading rapidfuzz-3.0.0-cp310-cp310-manylinux_2_17_x86_64.manylinux2014_x86_64.whl (3.0 MB)\n",
            "\u001b[2K     \u001b[90m━━━━━━━━━━━━━━━━━━━━━━━━━━━━━━━━━━━━━━━━\u001b[0m \u001b[32m3.0/3.0 MB\u001b[0m \u001b[31m109.6 MB/s\u001b[0m eta \u001b[36m0:00:00\u001b[0m\n",
            "\u001b[?25hCollecting opencv-python<=4.6.0.66 (from paddleocr>=2.0.1)\n",
            "  Downloading opencv_python-4.6.0.66-cp36-abi3-manylinux_2_17_x86_64.manylinux2014_x86_64.whl (60.9 MB)\n",
            "\u001b[2K     \u001b[90m━━━━━━━━━━━━━━━━━━━━━━━━━━━━━━━━━━━━━━━━\u001b[0m \u001b[32m60.9/60.9 MB\u001b[0m \u001b[31m9.8 MB/s\u001b[0m eta \u001b[36m0:00:00\u001b[0m\n",
            "\u001b[?25hCollecting opencv-contrib-python<=4.6.0.66 (from paddleocr>=2.0.1)\n",
            "  Downloading opencv_contrib_python-4.6.0.66-cp36-abi3-manylinux_2_17_x86_64.manylinux2014_x86_64.whl (67.1 MB)\n",
            "\u001b[2K     \u001b[90m━━━━━━━━━━━━━━━━━━━━━━━━━━━━━━━━━━━━━━━━\u001b[0m \u001b[32m67.1/67.1 MB\u001b[0m \u001b[31m10.7 MB/s\u001b[0m eta \u001b[36m0:00:00\u001b[0m\n",
            "\u001b[?25hRequirement already satisfied: cython in /usr/local/lib/python3.10/dist-packages (from paddleocr>=2.0.1) (0.29.34)\n",
            "Requirement already satisfied: lxml in /usr/local/lib/python3.10/dist-packages (from paddleocr>=2.0.1) (4.9.2)\n",
            "Collecting premailer (from paddleocr>=2.0.1)\n",
            "  Downloading premailer-3.10.0-py2.py3-none-any.whl (19 kB)\n",
            "Requirement already satisfied: openpyxl in /usr/local/lib/python3.10/dist-packages (from paddleocr>=2.0.1) (3.0.10)\n",
            "Collecting attrdict (from paddleocr>=2.0.1)\n",
            "  Downloading attrdict-2.0.1-py2.py3-none-any.whl (9.9 kB)\n",
            "Collecting PyMuPDF<1.21.0 (from paddleocr>=2.0.1)\n",
            "  Downloading PyMuPDF-1.20.2-cp310-cp310-manylinux_2_17_x86_64.manylinux2014_x86_64.whl (8.9 MB)\n",
            "\u001b[2K     \u001b[90m━━━━━━━━━━━━━━━━━━━━━━━━━━━━━━━━━━━━━━━━\u001b[0m \u001b[32m8.9/8.9 MB\u001b[0m \u001b[31m103.8 MB/s\u001b[0m eta \u001b[36m0:00:00\u001b[0m\n",
            "\u001b[?25hCollecting python-docx (from paddleocr>=2.0.1)\n",
            "  Downloading python-docx-0.8.11.tar.gz (5.6 MB)\n",
            "\u001b[2K     \u001b[90m━━━━━━━━━━━━━━━━━━━━━━━━━━━━━━━━━━━━━━━━\u001b[0m \u001b[32m5.6/5.6 MB\u001b[0m \u001b[31m108.9 MB/s\u001b[0m eta \u001b[36m0:00:00\u001b[0m\n",
            "\u001b[?25h  Preparing metadata (setup.py) ... \u001b[?25l\u001b[?25hdone\n",
            "Requirement already satisfied: beautifulsoup4 in /usr/local/lib/python3.10/dist-packages (from paddleocr>=2.0.1) (4.11.2)\n",
            "Requirement already satisfied: fonttools>=4.24.0 in /usr/local/lib/python3.10/dist-packages (from paddleocr>=2.0.1) (4.39.3)\n",
            "Collecting fire>=0.3.0 (from paddleocr>=2.0.1)\n",
            "  Downloading fire-0.5.0.tar.gz (88 kB)\n",
            "\u001b[2K     \u001b[90m━━━━━━━━━━━━━━━━━━━━━━━━━━━━━━━━━━━━━━━━\u001b[0m \u001b[32m88.3/88.3 kB\u001b[0m \u001b[31m12.9 MB/s\u001b[0m eta \u001b[36m0:00:00\u001b[0m\n",
            "\u001b[?25h  Preparing metadata (setup.py) ... \u001b[?25l\u001b[?25hdone\n",
            "Collecting pdf2docx (from paddleocr>=2.0.1)\n",
            "  Downloading pdf2docx-0.5.6-py3-none-any.whl (148 kB)\n",
            "\u001b[2K     \u001b[90m━━━━━━━━━━━━━━━━━━━━━━━━━━━━━━━━━━━━━━\u001b[0m \u001b[32m148.4/148.4 kB\u001b[0m \u001b[31m21.0 MB/s\u001b[0m eta \u001b[36m0:00:00\u001b[0m\n",
            "\u001b[?25hRequirement already satisfied: six in /usr/local/lib/python3.10/dist-packages (from fire>=0.3.0->paddleocr>=2.0.1) (1.16.0)\n",
            "Requirement already satisfied: termcolor in /usr/local/lib/python3.10/dist-packages (from fire>=0.3.0->paddleocr>=2.0.1) (2.3.0)\n",
            "Requirement already satisfied: soupsieve>1.2 in /usr/local/lib/python3.10/dist-packages (from beautifulsoup4->paddleocr>=2.0.1) (2.4.1)\n",
            "Requirement already satisfied: scipy in /usr/local/lib/python3.10/dist-packages (from imgaug->paddleocr>=2.0.1) (1.10.1)\n",
            "Requirement already satisfied: Pillow in /usr/local/lib/python3.10/dist-packages (from imgaug->paddleocr>=2.0.1) (8.4.0)\n",
            "Requirement already satisfied: matplotlib in /usr/local/lib/python3.10/dist-packages (from imgaug->paddleocr>=2.0.1) (3.7.1)\n",
            "Requirement already satisfied: imageio in /usr/local/lib/python3.10/dist-packages (from imgaug->paddleocr>=2.0.1) (2.25.1)\n",
            "Requirement already satisfied: networkx>=2.2 in /usr/local/lib/python3.10/dist-packages (from scikit-image->paddleocr>=2.0.1) (3.1)\n",
            "Requirement already satisfied: tifffile>=2019.7.26 in /usr/local/lib/python3.10/dist-packages (from scikit-image->paddleocr>=2.0.1) (2023.4.12)\n",
            "Requirement already satisfied: PyWavelets>=1.1.1 in /usr/local/lib/python3.10/dist-packages (from scikit-image->paddleocr>=2.0.1) (1.4.1)\n",
            "Requirement already satisfied: packaging>=20.0 in /usr/local/lib/python3.10/dist-packages (from scikit-image->paddleocr>=2.0.1) (23.1)\n",
            "Requirement already satisfied: et-xmlfile in /usr/local/lib/python3.10/dist-packages (from openpyxl->paddleocr>=2.0.1) (1.1.0)\n",
            "Collecting cssselect (from premailer->paddleocr>=2.0.1)\n",
            "  Downloading cssselect-1.2.0-py2.py3-none-any.whl (18 kB)\n",
            "Collecting cssutils (from premailer->paddleocr>=2.0.1)\n",
            "  Downloading cssutils-2.6.0-py3-none-any.whl (399 kB)\n",
            "\u001b[2K     \u001b[90m━━━━━━━━━━━━━━━━━━━━━━━━━━━━━━━━━━━━━━\u001b[0m \u001b[32m399.7/399.7 kB\u001b[0m \u001b[31m41.2 MB/s\u001b[0m eta \u001b[36m0:00:00\u001b[0m\n",
            "\u001b[?25hRequirement already satisfied: requests in /usr/local/lib/python3.10/dist-packages (from premailer->paddleocr>=2.0.1) (2.27.1)\n",
            "Requirement already satisfied: cachetools in /usr/local/lib/python3.10/dist-packages (from premailer->paddleocr>=2.0.1) (5.3.0)\n",
            "Collecting bce-python-sdk (from visualdl->paddleocr>=2.0.1)\n",
            "  Downloading bce_python_sdk-0.8.83-py3-none-any.whl (210 kB)\n",
            "\u001b[2K     \u001b[90m━━━━━━━━━━━━━━━━━━━━━━━━━━━━━━━━━━━━━━\u001b[0m \u001b[32m210.5/210.5 kB\u001b[0m \u001b[31m24.5 MB/s\u001b[0m eta \u001b[36m0:00:00\u001b[0m\n",
            "\u001b[?25hRequirement already satisfied: flask>=1.1.1 in /usr/local/lib/python3.10/dist-packages (from visualdl->paddleocr>=2.0.1) (2.2.4)\n",
            "Collecting Flask-Babel>=3.0.0 (from visualdl->paddleocr>=2.0.1)\n",
            "  Downloading flask_babel-3.1.0-py3-none-any.whl (9.6 kB)\n",
            "Requirement already satisfied: protobuf>=3.20.0 in /usr/local/lib/python3.10/dist-packages (from visualdl->paddleocr>=2.0.1) (3.20.3)\n",
            "Requirement already satisfied: pandas in /usr/local/lib/python3.10/dist-packages (from visualdl->paddleocr>=2.0.1) (1.5.3)\n",
            "Collecting x2paddle>=1.4.0 (from visualdl->paddleocr>=2.0.1)\n",
            "  Downloading x2paddle-1.4.1-py3-none-any.whl (316 kB)\n",
            "\u001b[2K     \u001b[90m━━━━━━━━━━━━━━━━━━━━━━━━━━━━━━━━━━━━━━\u001b[0m \u001b[32m316.2/316.2 kB\u001b[0m \u001b[31m33.1 MB/s\u001b[0m eta \u001b[36m0:00:00\u001b[0m\n",
            "\u001b[?25hCollecting paddle2onnx>=1.0.5 (from visualdl->paddleocr>=2.0.1)\n",
            "  Downloading paddle2onnx-1.0.6-cp310-cp310-manylinux_2_12_x86_64.manylinux2010_x86_64.whl (3.1 MB)\n",
            "\u001b[2K     \u001b[90m━━━━━━━━━━━━━━━━━━━━━━━━━━━━━━━━━━━━━━━━\u001b[0m \u001b[32m3.1/3.1 MB\u001b[0m \u001b[31m116.1 MB/s\u001b[0m eta \u001b[36m0:00:00\u001b[0m\n",
            "\u001b[?25hCollecting rarfile (from visualdl->paddleocr>=2.0.1)\n",
            "  Downloading rarfile-4.0-py3-none-any.whl (28 kB)\n",
            "Collecting gradio==3.11.0 (from visualdl->paddleocr>=2.0.1)\n",
            "  Downloading gradio-3.11.0-py3-none-any.whl (11.6 MB)\n",
            "\u001b[2K     \u001b[90m━━━━━━━━━━━━━━━━━━━━━━━━━━━━━━━━━━━━━━━\u001b[0m \u001b[32m11.6/11.6 MB\u001b[0m \u001b[31m114.2 MB/s\u001b[0m eta \u001b[36m0:00:00\u001b[0m\n",
            "\u001b[?25hCollecting tritonclient[all] (from visualdl->paddleocr>=2.0.1)\n",
            "  Downloading tritonclient-2.33.0-py3-none-manylinux1_x86_64.whl (11.8 MB)\n",
            "\u001b[2K     \u001b[90m━━━━━━━━━━━━━━━━━━━━━━━━━━━━━━━━━━━━━━━━\u001b[0m \u001b[32m11.8/11.8 MB\u001b[0m \u001b[31m90.1 MB/s\u001b[0m eta \u001b[36m0:00:00\u001b[0m\n",
            "\u001b[?25hRequirement already satisfied: psutil in /usr/local/lib/python3.10/dist-packages (from visualdl->paddleocr>=2.0.1) (5.9.5)\n",
            "Collecting onnx>=1.6.0 (from visualdl->paddleocr>=2.0.1)\n",
            "  Downloading onnx-1.14.0-cp310-cp310-manylinux_2_17_x86_64.manylinux2014_x86_64.whl (14.6 MB)\n",
            "\u001b[2K     \u001b[90m━━━━━━━━━━━━━━━━━━━━━━━━━━━━━━━━━━━━━━━\u001b[0m \u001b[32m14.6/14.6 MB\u001b[0m \u001b[31m100.8 MB/s\u001b[0m eta \u001b[36m0:00:00\u001b[0m\n",
            "\u001b[?25hCollecting aiohttp (from gradio==3.11.0->visualdl->paddleocr>=2.0.1)\n",
            "  Downloading aiohttp-3.8.4-cp310-cp310-manylinux_2_17_x86_64.manylinux2014_x86_64.whl (1.0 MB)\n",
            "\u001b[2K     \u001b[90m━━━━━━━━━━━━━━━━━━━━━━━━━━━━━━━━━━━━━━━━\u001b[0m \u001b[32m1.0/1.0 MB\u001b[0m \u001b[31m58.7 MB/s\u001b[0m eta \u001b[36m0:00:00\u001b[0m\n",
            "\u001b[?25hCollecting fastapi (from gradio==3.11.0->visualdl->paddleocr>=2.0.1)\n",
            "  Downloading fastapi-0.95.2-py3-none-any.whl (56 kB)\n",
            "\u001b[2K     \u001b[90m━━━━━━━━━━━━━━━━━━━━━━━━━━━━━━━━━━━━━━━━\u001b[0m \u001b[32m57.0/57.0 kB\u001b[0m \u001b[31m7.4 MB/s\u001b[0m eta \u001b[36m0:00:00\u001b[0m\n",
            "\u001b[?25hCollecting ffmpy (from gradio==3.11.0->visualdl->paddleocr>=2.0.1)\n",
            "  Downloading ffmpy-0.3.0.tar.gz (4.8 kB)\n",
            "  Preparing metadata (setup.py) ... \u001b[?25l\u001b[?25hdone\n",
            "Requirement already satisfied: fsspec in /usr/local/lib/python3.10/dist-packages (from gradio==3.11.0->visualdl->paddleocr>=2.0.1) (2023.4.0)\n",
            "Collecting h11<0.13,>=0.11 (from gradio==3.11.0->visualdl->paddleocr>=2.0.1)\n",
            "  Downloading h11-0.12.0-py3-none-any.whl (54 kB)\n",
            "\u001b[2K     \u001b[90m━━━━━━━━━━━━━━━━━━━━━━━━━━━━━━━━━━━━━━━\u001b[0m \u001b[32m54.9/54.9 kB\u001b[0m \u001b[31m220.7 kB/s\u001b[0m eta \u001b[36m0:00:00\u001b[0m\n",
            "\u001b[?25hCollecting httpx (from gradio==3.11.0->visualdl->paddleocr>=2.0.1)\n",
            "  Downloading httpx-0.24.1-py3-none-any.whl (75 kB)\n",
            "\u001b[2K     \u001b[90m━━━━━━━━━━━━━━━━━━━━━━━━━━━━━━━━━━━━━━━━\u001b[0m \u001b[32m75.4/75.4 kB\u001b[0m \u001b[31m10.1 MB/s\u001b[0m eta \u001b[36m0:00:00\u001b[0m\n",
            "\u001b[?25hRequirement already satisfied: jinja2 in /usr/local/lib/python3.10/dist-packages (from gradio==3.11.0->visualdl->paddleocr>=2.0.1) (3.1.2)\n",
            "Requirement already satisfied: markdown-it-py[linkify,plugins] in /usr/local/lib/python3.10/dist-packages (from gradio==3.11.0->visualdl->paddleocr>=2.0.1) (2.2.0)\n",
            "Collecting orjson (from gradio==3.11.0->visualdl->paddleocr>=2.0.1)\n",
            "  Downloading orjson-3.8.14-cp310-cp310-manylinux_2_17_x86_64.manylinux2014_x86_64.whl (136 kB)\n",
            "\u001b[2K     \u001b[90m━━━━━━━━━━━━━━━━━━━━━━━━━━━━━━━━━━━━━━\u001b[0m \u001b[32m136.6/136.6 kB\u001b[0m \u001b[31m15.9 MB/s\u001b[0m eta \u001b[36m0:00:00\u001b[0m\n",
            "\u001b[?25hCollecting paramiko (from gradio==3.11.0->visualdl->paddleocr>=2.0.1)\n",
            "  Downloading paramiko-3.2.0-py3-none-any.whl (224 kB)\n",
            "\u001b[2K     \u001b[90m━━━━━━━━━━━━━━━━━━━━━━━━━━━━━━━━━━━━━━\u001b[0m \u001b[32m224.2/224.2 kB\u001b[0m \u001b[31m26.9 MB/s\u001b[0m eta \u001b[36m0:00:00\u001b[0m\n",
            "\u001b[?25hCollecting pycryptodome (from gradio==3.11.0->visualdl->paddleocr>=2.0.1)\n",
            "  Downloading pycryptodome-3.18.0-cp35-abi3-manylinux_2_17_x86_64.manylinux2014_x86_64.whl (2.1 MB)\n",
            "\u001b[2K     \u001b[90m━━━━━━━━━━━━━━━━━━━━━━━━━━━━━━━━━━━━━━━━\u001b[0m \u001b[32m2.1/2.1 MB\u001b[0m \u001b[31m89.5 MB/s\u001b[0m eta \u001b[36m0:00:00\u001b[0m\n",
            "\u001b[?25hRequirement already satisfied: pydantic in /usr/local/lib/python3.10/dist-packages (from gradio==3.11.0->visualdl->paddleocr>=2.0.1) (1.10.7)\n",
            "Collecting pydub (from gradio==3.11.0->visualdl->paddleocr>=2.0.1)\n",
            "  Downloading pydub-0.25.1-py2.py3-none-any.whl (32 kB)\n",
            "Collecting python-multipart (from gradio==3.11.0->visualdl->paddleocr>=2.0.1)\n",
            "  Downloading python_multipart-0.0.6-py3-none-any.whl (45 kB)\n",
            "\u001b[2K     \u001b[90m━━━━━━━━━━━━━━━━━━━━━━━━━━━━━━━━━━━━━━━━\u001b[0m \u001b[32m45.7/45.7 kB\u001b[0m \u001b[31m3.2 MB/s\u001b[0m eta \u001b[36m0:00:00\u001b[0m\n",
            "\u001b[?25hRequirement already satisfied: pyyaml in /usr/local/lib/python3.10/dist-packages (from gradio==3.11.0->visualdl->paddleocr>=2.0.1) (6.0)\n",
            "Collecting uvicorn (from gradio==3.11.0->visualdl->paddleocr>=2.0.1)\n",
            "  Downloading uvicorn-0.22.0-py3-none-any.whl (58 kB)\n",
            "\u001b[2K     \u001b[90m━━━━━━━━━━━━━━━━━━━━━━━━━━━━━━━━━━━━━━━━\u001b[0m \u001b[32m58.3/58.3 kB\u001b[0m \u001b[31m8.1 MB/s\u001b[0m eta \u001b[36m0:00:00\u001b[0m\n",
            "\u001b[?25hCollecting websockets>=10.0 (from gradio==3.11.0->visualdl->paddleocr>=2.0.1)\n",
            "  Downloading websockets-11.0.3-cp310-cp310-manylinux_2_5_x86_64.manylinux1_x86_64.manylinux_2_17_x86_64.manylinux2014_x86_64.whl (129 kB)\n",
            "\u001b[2K     \u001b[90m━━━━━━━━━━━━━━━━━━━━━━━━━━━━━━━━━━━━━━\u001b[0m \u001b[32m129.9/129.9 kB\u001b[0m \u001b[31m17.7 MB/s\u001b[0m eta \u001b[36m0:00:00\u001b[0m\n",
            "\u001b[?25hRequirement already satisfied: Werkzeug>=2.2.2 in /usr/local/lib/python3.10/dist-packages (from flask>=1.1.1->visualdl->paddleocr>=2.0.1) (2.3.0)\n",
            "Requirement already satisfied: itsdangerous>=2.0 in /usr/local/lib/python3.10/dist-packages (from flask>=1.1.1->visualdl->paddleocr>=2.0.1) (2.1.2)\n",
            "Requirement already satisfied: click>=8.0 in /usr/local/lib/python3.10/dist-packages (from flask>=1.1.1->visualdl->paddleocr>=2.0.1) (8.1.3)\n",
            "Requirement already satisfied: Babel>=2.12 in /usr/local/lib/python3.10/dist-packages (from Flask-Babel>=3.0.0->visualdl->paddleocr>=2.0.1) (2.12.1)\n",
            "Requirement already satisfied: pytz>=2022.7 in /usr/local/lib/python3.10/dist-packages (from Flask-Babel>=3.0.0->visualdl->paddleocr>=2.0.1) (2022.7.1)\n",
            "Requirement already satisfied: typing-extensions>=3.6.2.1 in /usr/local/lib/python3.10/dist-packages (from onnx>=1.6.0->visualdl->paddleocr>=2.0.1) (4.5.0)\n",
            "Requirement already satisfied: sympy in /usr/local/lib/python3.10/dist-packages (from x2paddle>=1.4.0->visualdl->paddleocr>=2.0.1) (1.11.1)\n",
            "Requirement already satisfied: future>=0.6.0 in /usr/local/lib/python3.10/dist-packages (from bce-python-sdk->visualdl->paddleocr>=2.0.1) (0.18.3)\n",
            "Requirement already satisfied: contourpy>=1.0.1 in /usr/local/lib/python3.10/dist-packages (from matplotlib->imgaug->paddleocr>=2.0.1) (1.0.7)\n",
            "Requirement already satisfied: cycler>=0.10 in /usr/local/lib/python3.10/dist-packages (from matplotlib->imgaug->paddleocr>=2.0.1) (0.11.0)\n",
            "Requirement already satisfied: kiwisolver>=1.0.1 in /usr/local/lib/python3.10/dist-packages (from matplotlib->imgaug->paddleocr>=2.0.1) (1.4.4)\n",
            "Requirement already satisfied: pyparsing>=2.3.1 in /usr/local/lib/python3.10/dist-packages (from matplotlib->imgaug->paddleocr>=2.0.1) (3.0.9)\n",
            "Requirement already satisfied: python-dateutil>=2.7 in /usr/local/lib/python3.10/dist-packages (from matplotlib->imgaug->paddleocr>=2.0.1) (2.8.2)\n",
            "Requirement already satisfied: urllib3<1.27,>=1.21.1 in /usr/local/lib/python3.10/dist-packages (from requests->premailer->paddleocr>=2.0.1) (1.26.15)\n",
            "Requirement already satisfied: certifi>=2017.4.17 in /usr/local/lib/python3.10/dist-packages (from requests->premailer->paddleocr>=2.0.1) (2022.12.7)\n",
            "Requirement already satisfied: charset-normalizer~=2.0.0 in /usr/local/lib/python3.10/dist-packages (from requests->premailer->paddleocr>=2.0.1) (2.0.12)\n",
            "Requirement already satisfied: idna<4,>=2.5 in /usr/local/lib/python3.10/dist-packages (from requests->premailer->paddleocr>=2.0.1) (3.4)\n",
            "Collecting python-rapidjson>=0.9.1 (from tritonclient[all]->visualdl->paddleocr>=2.0.1)\n",
            "  Downloading python_rapidjson-1.10-cp310-cp310-manylinux_2_17_x86_64.manylinux2014_x86_64.whl (1.7 MB)\n",
            "\u001b[2K     \u001b[90m━━━━━━━━━━━━━━━━━━━━━━━━━━━━━━━━━━━━━━━━\u001b[0m \u001b[32m1.7/1.7 MB\u001b[0m \u001b[31m94.7 MB/s\u001b[0m eta \u001b[36m0:00:00\u001b[0m\n",
            "\u001b[?25hRequirement already satisfied: grpcio>=1.41.0 in /usr/local/lib/python3.10/dist-packages (from tritonclient[all]->visualdl->paddleocr>=2.0.1) (1.54.0)\n",
            "Collecting geventhttpclient<=2.0.2,>=1.4.4 (from tritonclient[all]->visualdl->paddleocr>=2.0.1)\n",
            "  Downloading geventhttpclient-2.0.2-cp310-cp310-manylinux_2_5_x86_64.manylinux1_x86_64.manylinux_2_17_x86_64.manylinux2014_x86_64.whl (100 kB)\n",
            "\u001b[2K     \u001b[90m━━━━━━━━━━━━━━━━━━━━━━━━━━━━━━━━━━━━━━━\u001b[0m \u001b[32m100.3/100.3 kB\u001b[0m \u001b[31m8.8 MB/s\u001b[0m eta \u001b[36m0:00:00\u001b[0m\n",
            "\u001b[?25hRequirement already satisfied: attrs>=17.3.0 in /usr/local/lib/python3.10/dist-packages (from aiohttp->gradio==3.11.0->visualdl->paddleocr>=2.0.1) (23.1.0)\n",
            "Collecting multidict<7.0,>=4.5 (from aiohttp->gradio==3.11.0->visualdl->paddleocr>=2.0.1)\n",
            "  Downloading multidict-6.0.4-cp310-cp310-manylinux_2_17_x86_64.manylinux2014_x86_64.whl (114 kB)\n",
            "\u001b[2K     \u001b[90m━━━━━━━━━━━━━━━━━━━━━━━━━━━━━━━━━━━━━━\u001b[0m \u001b[32m114.5/114.5 kB\u001b[0m \u001b[31m16.3 MB/s\u001b[0m eta \u001b[36m0:00:00\u001b[0m\n",
            "\u001b[?25hCollecting async-timeout<5.0,>=4.0.0a3 (from aiohttp->gradio==3.11.0->visualdl->paddleocr>=2.0.1)\n",
            "  Downloading async_timeout-4.0.2-py3-none-any.whl (5.8 kB)\n",
            "Collecting yarl<2.0,>=1.0 (from aiohttp->gradio==3.11.0->visualdl->paddleocr>=2.0.1)\n",
            "  Downloading yarl-1.9.2-cp310-cp310-manylinux_2_17_x86_64.manylinux2014_x86_64.whl (268 kB)\n",
            "\u001b[2K     \u001b[90m━━━━━━━━━━━━━━━━━━━━━━━━━━━━━━━━━━━━━━\u001b[0m \u001b[32m268.8/268.8 kB\u001b[0m \u001b[31m32.3 MB/s\u001b[0m eta \u001b[36m0:00:00\u001b[0m\n",
            "\u001b[?25hCollecting frozenlist>=1.1.1 (from aiohttp->gradio==3.11.0->visualdl->paddleocr>=2.0.1)\n",
            "  Downloading frozenlist-1.3.3-cp310-cp310-manylinux_2_5_x86_64.manylinux1_x86_64.manylinux_2_17_x86_64.manylinux2014_x86_64.whl (149 kB)\n",
            "\u001b[2K     \u001b[90m━━━━━━━━━━━━━━━━━━━━━━━━━━━━━━━━━━━━━━\u001b[0m \u001b[32m149.6/149.6 kB\u001b[0m \u001b[31m20.0 MB/s\u001b[0m eta \u001b[36m0:00:00\u001b[0m\n",
            "\u001b[?25hCollecting aiosignal>=1.1.2 (from aiohttp->gradio==3.11.0->visualdl->paddleocr>=2.0.1)\n",
            "  Downloading aiosignal-1.3.1-py3-none-any.whl (7.6 kB)\n",
            "Collecting gevent>=0.13 (from geventhttpclient<=2.0.2,>=1.4.4->tritonclient[all]->visualdl->paddleocr>=2.0.1)\n",
            "  Downloading gevent-22.10.2-cp310-cp310-manylinux_2_17_x86_64.manylinux2014_x86_64.whl (6.4 MB)\n",
            "\u001b[2K     \u001b[90m━━━━━━━━━━━━━━━━━━━━━━━━━━━━━━━━━━━━━━━━\u001b[0m \u001b[32m6.4/6.4 MB\u001b[0m \u001b[31m124.6 MB/s\u001b[0m eta \u001b[36m0:00:00\u001b[0m\n",
            "\u001b[?25hCollecting brotli (from geventhttpclient<=2.0.2,>=1.4.4->tritonclient[all]->visualdl->paddleocr>=2.0.1)\n",
            "  Downloading Brotli-1.0.9-cp310-cp310-manylinux_2_5_x86_64.manylinux1_x86_64.manylinux_2_12_x86_64.manylinux2010_x86_64.whl (2.7 MB)\n",
            "\u001b[2K     \u001b[90m━━━━━━━━━━━━━━━━━━━━━━━━━━━━━━━━━━━━━━━━\u001b[0m \u001b[32m2.7/2.7 MB\u001b[0m \u001b[31m83.9 MB/s\u001b[0m eta \u001b[36m0:00:00\u001b[0m\n",
            "\u001b[?25hRequirement already satisfied: MarkupSafe>=2.0 in /usr/local/lib/python3.10/dist-packages (from jinja2->gradio==3.11.0->visualdl->paddleocr>=2.0.1) (2.1.2)\n",
            "Collecting starlette<0.28.0,>=0.27.0 (from fastapi->gradio==3.11.0->visualdl->paddleocr>=2.0.1)\n",
            "  Downloading starlette-0.27.0-py3-none-any.whl (66 kB)\n",
            "\u001b[2K     \u001b[90m━━━━━━━━━━━━━━━━━━━━━━━━━━━━━━━━━━━━━━━━\u001b[0m \u001b[32m67.0/67.0 kB\u001b[0m \u001b[31m8.8 MB/s\u001b[0m eta \u001b[36m0:00:00\u001b[0m\n",
            "\u001b[?25hCollecting httpcore<0.18.0,>=0.15.0 (from httpx->gradio==3.11.0->visualdl->paddleocr>=2.0.1)\n",
            "  Downloading httpcore-0.17.2-py3-none-any.whl (72 kB)\n",
            "\u001b[2K     \u001b[90m━━━━━━━━━━━━━━━━━━━━━━━━━━━━━━━━━━━━━━━━\u001b[0m \u001b[32m72.5/72.5 kB\u001b[0m \u001b[31m9.9 MB/s\u001b[0m eta \u001b[36m0:00:00\u001b[0m\n",
            "\u001b[?25hRequirement already satisfied: sniffio in /usr/local/lib/python3.10/dist-packages (from httpx->gradio==3.11.0->visualdl->paddleocr>=2.0.1) (1.3.0)\n",
            "Requirement already satisfied: mdurl~=0.1 in /usr/local/lib/python3.10/dist-packages (from markdown-it-py[linkify,plugins]->gradio==3.11.0->visualdl->paddleocr>=2.0.1) (0.1.2)\n",
            "Collecting mdit-py-plugins (from markdown-it-py[linkify,plugins]->gradio==3.11.0->visualdl->paddleocr>=2.0.1)\n",
            "  Downloading mdit_py_plugins-0.3.5-py3-none-any.whl (52 kB)\n",
            "\u001b[2K     \u001b[90m━━━━━━━━━━━━━━━━━━━━━━━━━━━━━━━━━━━━━━━━\u001b[0m \u001b[32m52.1/52.1 kB\u001b[0m \u001b[31m6.1 MB/s\u001b[0m eta \u001b[36m0:00:00\u001b[0m\n",
            "\u001b[?25hCollecting linkify-it-py<3,>=1 (from markdown-it-py[linkify,plugins]->gradio==3.11.0->visualdl->paddleocr>=2.0.1)\n",
            "  Downloading linkify_it_py-2.0.2-py3-none-any.whl (19 kB)\n",
            "Collecting bcrypt>=3.2 (from paramiko->gradio==3.11.0->visualdl->paddleocr>=2.0.1)\n",
            "  Downloading bcrypt-4.0.1-cp36-abi3-manylinux_2_28_x86_64.whl (593 kB)\n",
            "\u001b[2K     \u001b[90m━━━━━━━━━━━━━━━━━━━━━━━━━━━━━━━━━━━━━━\u001b[0m \u001b[32m593.7/593.7 kB\u001b[0m \u001b[31m48.3 MB/s\u001b[0m eta \u001b[36m0:00:00\u001b[0m\n",
            "\u001b[?25hRequirement already satisfied: cryptography>=3.3 in /usr/local/lib/python3.10/dist-packages (from paramiko->gradio==3.11.0->visualdl->paddleocr>=2.0.1) (40.0.2)\n",
            "Collecting pynacl>=1.5 (from paramiko->gradio==3.11.0->visualdl->paddleocr>=2.0.1)\n",
            "  Downloading PyNaCl-1.5.0-cp36-abi3-manylinux_2_17_x86_64.manylinux2014_x86_64.manylinux_2_24_x86_64.whl (856 kB)\n",
            "\u001b[2K     \u001b[90m━━━━━━━━━━━━━━━━━━━━━━━━━━━━━━━━━━━━━━\u001b[0m \u001b[32m856.7/856.7 kB\u001b[0m \u001b[31m58.9 MB/s\u001b[0m eta \u001b[36m0:00:00\u001b[0m\n",
            "\u001b[?25hRequirement already satisfied: mpmath>=0.19 in /usr/local/lib/python3.10/dist-packages (from sympy->x2paddle>=1.4.0->visualdl->paddleocr>=2.0.1) (1.3.0)\n",
            "Requirement already satisfied: cffi>=1.12 in /usr/local/lib/python3.10/dist-packages (from cryptography>=3.3->paramiko->gradio==3.11.0->visualdl->paddleocr>=2.0.1) (1.15.1)\n",
            "Collecting zope.event (from gevent>=0.13->geventhttpclient<=2.0.2,>=1.4.4->tritonclient[all]->visualdl->paddleocr>=2.0.1)\n",
            "  Downloading zope.event-4.6-py2.py3-none-any.whl (6.8 kB)\n",
            "Collecting zope.interface (from gevent>=0.13->geventhttpclient<=2.0.2,>=1.4.4->tritonclient[all]->visualdl->paddleocr>=2.0.1)\n",
            "  Downloading zope.interface-6.0-cp310-cp310-manylinux_2_5_x86_64.manylinux1_x86_64.manylinux_2_17_x86_64.manylinux2014_x86_64.whl (246 kB)\n",
            "\u001b[2K     \u001b[90m━━━━━━━━━━━━━━━━━━━━━━━━━━━━━━━━━━━━━━\u001b[0m \u001b[32m247.0/247.0 kB\u001b[0m \u001b[31m24.3 MB/s\u001b[0m eta \u001b[36m0:00:00\u001b[0m\n",
            "\u001b[?25hRequirement already satisfied: setuptools in /usr/local/lib/python3.10/dist-packages (from gevent>=0.13->geventhttpclient<=2.0.2,>=1.4.4->tritonclient[all]->visualdl->paddleocr>=2.0.1) (67.7.2)\n",
            "Requirement already satisfied: greenlet>=2.0.0 in /usr/local/lib/python3.10/dist-packages (from gevent>=0.13->geventhttpclient<=2.0.2,>=1.4.4->tritonclient[all]->visualdl->paddleocr>=2.0.1) (2.0.2)\n",
            "INFO: pip is looking at multiple versions of httpcore to determine which version is compatible with other requirements. This could take a while.\n",
            "Collecting httpcore<0.18.0,>=0.15.0 (from httpx->gradio==3.11.0->visualdl->paddleocr>=2.0.1)\n",
            "  Downloading httpcore-0.17.1-py3-none-any.whl (70 kB)\n",
            "\u001b[2K     \u001b[90m━━━━━━━━━━━━━━━━━━━━━━━━━━━━━━━━━━━━━━━━\u001b[0m \u001b[32m70.9/70.9 kB\u001b[0m \u001b[31m9.6 MB/s\u001b[0m eta \u001b[36m0:00:00\u001b[0m\n",
            "\u001b[?25h  Downloading httpcore-0.17.0-py3-none-any.whl (70 kB)\n",
            "\u001b[2K     \u001b[90m━━━━━━━━━━━━━━━━━━━━━━━━━━━━━━━━━━━━━━━━\u001b[0m \u001b[32m70.6/70.6 kB\u001b[0m \u001b[31m10.1 MB/s\u001b[0m eta \u001b[36m0:00:00\u001b[0m\n",
            "\u001b[?25h  Downloading httpcore-0.16.3-py3-none-any.whl (69 kB)\n",
            "\u001b[2K     \u001b[90m━━━━━━━━━━━━━━━━━━━━━━━━━━━━━━━━━━━━━━━━\u001b[0m \u001b[32m69.6/69.6 kB\u001b[0m \u001b[31m9.1 MB/s\u001b[0m eta \u001b[36m0:00:00\u001b[0m\n",
            "\u001b[?25h  Downloading httpcore-0.16.2-py3-none-any.whl (68 kB)\n",
            "\u001b[2K     \u001b[90m━━━━━━━━━━━━━━━━━━━━━━━━━━━━━━━━━━━━━━━━\u001b[0m \u001b[32m69.0/69.0 kB\u001b[0m \u001b[31m8.2 MB/s\u001b[0m eta \u001b[36m0:00:00\u001b[0m\n",
            "\u001b[?25h  Downloading httpcore-0.16.1-py3-none-any.whl (68 kB)\n",
            "\u001b[2K     \u001b[90m━━━━━━━━━━━━━━━━━━━━━━━━━━━━━━━━━━━━━━━━\u001b[0m \u001b[32m68.7/68.7 kB\u001b[0m \u001b[31m10.0 MB/s\u001b[0m eta \u001b[36m0:00:00\u001b[0m\n",
            "\u001b[?25h  Downloading httpcore-0.16.0-py3-none-any.whl (68 kB)\n",
            "\u001b[2K     \u001b[90m━━━━━━━━━━━━━━━━━━━━━━━━━━━━━━━━━━━━━━━━\u001b[0m \u001b[32m68.7/68.7 kB\u001b[0m \u001b[31m10.5 MB/s\u001b[0m eta \u001b[36m0:00:00\u001b[0m\n",
            "\u001b[?25h  Downloading httpcore-0.15.0-py3-none-any.whl (68 kB)\n",
            "\u001b[2K     \u001b[90m━━━━━━━━━━━━━━━━━━━━━━━━━━━━━━━━━━━━━━━━\u001b[0m \u001b[32m68.4/68.4 kB\u001b[0m \u001b[31m9.9 MB/s\u001b[0m eta \u001b[36m0:00:00\u001b[0m\n",
            "\u001b[?25hRequirement already satisfied: anyio==3.* in /usr/local/lib/python3.10/dist-packages (from httpcore<0.18.0,>=0.15.0->httpx->gradio==3.11.0->visualdl->paddleocr>=2.0.1) (3.6.2)\n",
            "Collecting uc-micro-py (from linkify-it-py<3,>=1->markdown-it-py[linkify,plugins]->gradio==3.11.0->visualdl->paddleocr>=2.0.1)\n",
            "  Downloading uc_micro_py-1.0.2-py3-none-any.whl (6.2 kB)\n",
            "Requirement already satisfied: pycparser in /usr/local/lib/python3.10/dist-packages (from cffi>=1.12->cryptography>=3.3->paramiko->gradio==3.11.0->visualdl->paddleocr>=2.0.1) (2.21)\n",
            "Building wheels for collected packages: fire, python-docx, ffmpy\n",
            "  Building wheel for fire (setup.py) ... \u001b[?25l\u001b[?25hdone\n",
            "  Created wheel for fire: filename=fire-0.5.0-py2.py3-none-any.whl size=116932 sha256=de167c21894d7de46e4549749bdea4a5d1ee991da1ed46c3acb610dc45088152\n",
            "  Stored in directory: /root/.cache/pip/wheels/90/d4/f7/9404e5db0116bd4d43e5666eaa3e70ab53723e1e3ea40c9a95\n",
            "  Building wheel for python-docx (setup.py) ... \u001b[?25l\u001b[?25hdone\n",
            "  Created wheel for python-docx: filename=python_docx-0.8.11-py3-none-any.whl size=184491 sha256=8c2a0b693711651d8d1b4933764b215f669f597e358bb96edb73fea847d81970\n",
            "  Stored in directory: /root/.cache/pip/wheels/80/27/06/837436d4c3bd989b957a91679966f207bfd71d358d63a8194d\n",
            "  Building wheel for ffmpy (setup.py) ... \u001b[?25l\u001b[?25hdone\n",
            "  Created wheel for ffmpy: filename=ffmpy-0.3.0-py3-none-any.whl size=4694 sha256=34f5e9c6527ae43cad02de393820675aa8a2419eafbb7ac270791f2d5b0d2afb\n",
            "  Stored in directory: /root/.cache/pip/wheels/0c/c2/0e/3b9c6845c6a4e35beb90910cc70d9ac9ab5d47402bd62af0df\n",
            "Successfully built fire python-docx ffmpy\n",
            "Installing collected packages: rarfile, pydub, pyclipper, paddle2onnx, lmdb, ffmpy, brotli, zope.interface, zope.event, websockets, uc-micro-py, rapidfuzz, python-rapidjson, python-multipart, python-docx, PyMuPDF, pycryptodome, orjson, opencv-python, opencv-contrib-python, onnx, multidict, h11, frozenlist, fire, cssutils, cssselect, bcrypt, attrdict, async-timeout, yarl, x2paddle, uvicorn, tritonclient, starlette, pynacl, premailer, pdf2docx, mdit-py-plugins, linkify-it-py, httpcore, gevent, bce-python-sdk, aiosignal, paramiko, httpx, geventhttpclient, Flask-Babel, fastapi, aiohttp, gradio, visualdl, paddleocr\n",
            "  Attempting uninstall: opencv-python\n",
            "    Found existing installation: opencv-python 4.7.0.72\n",
            "    Uninstalling opencv-python-4.7.0.72:\n",
            "      Successfully uninstalled opencv-python-4.7.0.72\n",
            "  Attempting uninstall: opencv-contrib-python\n",
            "    Found existing installation: opencv-contrib-python 4.7.0.72\n",
            "    Uninstalling opencv-contrib-python-4.7.0.72:\n",
            "      Successfully uninstalled opencv-contrib-python-4.7.0.72\n",
            "Successfully installed Flask-Babel-3.1.0 PyMuPDF-1.20.2 aiohttp-3.8.4 aiosignal-1.3.1 async-timeout-4.0.2 attrdict-2.0.1 bce-python-sdk-0.8.83 bcrypt-4.0.1 brotli-1.0.9 cssselect-1.2.0 cssutils-2.6.0 fastapi-0.95.2 ffmpy-0.3.0 fire-0.5.0 frozenlist-1.3.3 gevent-22.10.2 geventhttpclient-2.0.2 gradio-3.11.0 h11-0.12.0 httpcore-0.15.0 httpx-0.24.1 linkify-it-py-2.0.2 lmdb-1.4.1 mdit-py-plugins-0.3.5 multidict-6.0.4 onnx-1.14.0 opencv-contrib-python-4.6.0.66 opencv-python-4.6.0.66 orjson-3.8.14 paddle2onnx-1.0.6 paddleocr-2.6.1.3 paramiko-3.2.0 pdf2docx-0.5.6 premailer-3.10.0 pyclipper-1.3.0.post4 pycryptodome-3.18.0 pydub-0.25.1 pynacl-1.5.0 python-docx-0.8.11 python-multipart-0.0.6 python-rapidjson-1.10 rapidfuzz-3.0.0 rarfile-4.0 starlette-0.27.0 tritonclient-2.33.0 uc-micro-py-1.0.2 uvicorn-0.22.0 visualdl-2.5.2 websockets-11.0.3 x2paddle-1.4.1 yarl-1.9.2 zope.event-4.6 zope.interface-6.0\n"
          ]
        },
        {
          "output_type": "display_data",
          "data": {
            "application/vnd.colab-display-data+json": {
              "pip_warning": {
                "packages": [
                  "cv2"
                ]
              }
            }
          },
          "metadata": {}
        },
        {
          "output_type": "stream",
          "name": "stdout",
          "text": [
            "Looking in indexes: https://pypi.org/simple, https://us-python.pkg.dev/colab-wheels/public/simple/\n",
            "Collecting protobuf==3.20.0\n",
            "  Downloading protobuf-3.20.0-cp310-cp310-manylinux_2_12_x86_64.manylinux2010_x86_64.whl (1.1 MB)\n",
            "\u001b[2K     \u001b[90m━━━━━━━━━━━━━━━━━━━━━━━━━━━━━━━━━━━━━━━━\u001b[0m \u001b[32m1.1/1.1 MB\u001b[0m \u001b[31m49.9 MB/s\u001b[0m eta \u001b[36m0:00:00\u001b[0m\n",
            "\u001b[?25hInstalling collected packages: protobuf\n",
            "  Attempting uninstall: protobuf\n",
            "    Found existing installation: protobuf 3.20.3\n",
            "    Uninstalling protobuf-3.20.3:\n",
            "      Successfully uninstalled protobuf-3.20.3\n",
            "\u001b[31mERROR: pip's dependency resolver does not currently take into account all the packages that are installed. This behaviour is the source of the following dependency conflicts.\n",
            "google-api-core 2.11.0 requires protobuf!=3.20.0,!=3.20.1,!=4.21.0,!=4.21.1,!=4.21.2,!=4.21.3,!=4.21.4,!=4.21.5,<5.0.0dev,>=3.19.5, but you have protobuf 3.20.0 which is incompatible.\n",
            "google-cloud-bigquery 3.9.0 requires protobuf!=3.20.0,!=3.20.1,!=4.21.0,!=4.21.1,!=4.21.2,!=4.21.3,!=4.21.4,!=4.21.5,<5.0.0dev,>=3.19.5, but you have protobuf 3.20.0 which is incompatible.\n",
            "google-cloud-bigquery-storage 2.19.1 requires protobuf!=3.20.0,!=3.20.1,!=4.21.0,!=4.21.1,!=4.21.2,!=4.21.3,!=4.21.4,!=4.21.5,<5.0.0dev,>=3.19.5, but you have protobuf 3.20.0 which is incompatible.\n",
            "google-cloud-datastore 2.15.1 requires protobuf!=3.20.0,!=3.20.1,!=4.21.0,!=4.21.1,!=4.21.2,!=4.21.3,!=4.21.4,!=4.21.5,<5.0.0dev,>=3.19.5, but you have protobuf 3.20.0 which is incompatible.\n",
            "google-cloud-firestore 2.11.0 requires protobuf!=3.20.0,!=3.20.1,!=4.21.0,!=4.21.1,!=4.21.2,!=4.21.3,!=4.21.4,!=4.21.5,<5.0.0dev,>=3.19.5, but you have protobuf 3.20.0 which is incompatible.\n",
            "google-cloud-language 2.9.1 requires protobuf!=3.20.0,!=3.20.1,!=4.21.0,!=4.21.1,!=4.21.2,!=4.21.3,!=4.21.4,!=4.21.5,<5.0.0dev,>=3.19.5, but you have protobuf 3.20.0 which is incompatible.\n",
            "google-cloud-translate 3.11.1 requires protobuf!=3.20.0,!=3.20.1,!=4.21.0,!=4.21.1,!=4.21.2,!=4.21.3,!=4.21.4,!=4.21.5,<5.0.0dev,>=3.19.5, but you have protobuf 3.20.0 which is incompatible.\n",
            "googleapis-common-protos 1.59.0 requires protobuf!=3.20.0,!=3.20.1,!=4.21.1,!=4.21.2,!=4.21.3,!=4.21.4,!=4.21.5,<5.0.0dev,>=3.19.5, but you have protobuf 3.20.0 which is incompatible.\n",
            "onnx 1.14.0 requires protobuf>=3.20.2, but you have protobuf 3.20.0 which is incompatible.\n",
            "tensorflow 2.12.0 requires protobuf!=4.21.0,!=4.21.1,!=4.21.2,!=4.21.3,!=4.21.4,!=4.21.5,<5.0.0dev,>=3.20.3, but you have protobuf 3.20.0 which is incompatible.\n",
            "tensorflow-metadata 1.13.1 requires protobuf<5,>=3.20.3, but you have protobuf 3.20.0 which is incompatible.\u001b[0m\u001b[31m\n",
            "\u001b[0mSuccessfully installed protobuf-3.20.0\n"
          ]
        },
        {
          "output_type": "display_data",
          "data": {
            "application/vnd.colab-display-data+json": {
              "pip_warning": {
                "packages": [
                  "google"
                ]
              }
            }
          },
          "metadata": {}
        },
        {
          "output_type": "stream",
          "name": "stdout",
          "text": [
            "Cloning into 'PaddleOCR'...\n",
            "remote: Enumerating objects: 46396, done.\u001b[K\n",
            "remote: Counting objects: 100% (262/262), done.\u001b[K\n",
            "remote: Compressing objects: 100% (191/191), done.\u001b[K\n",
            "remote: Total 46396 (delta 141), reused 135 (delta 70), pack-reused 46134\u001b[K\n",
            "Receiving objects: 100% (46396/46396), 339.31 MiB | 18.16 MiB/s, done.\n",
            "Resolving deltas: 100% (32566/32566), done.\n"
          ]
        }
      ]
    },
    {
      "cell_type": "code",
      "source": [
        "a=5"
      ],
      "metadata": {
        "id": "IXEKTAa2_10K"
      },
      "execution_count": 11,
      "outputs": []
    },
    {
      "cell_type": "code",
      "source": [
        "!wget https://paddleocr.bj.bcebos.com/whl/layoutparser-0.0.0-py3-none-any.whl\n",
        "!pip install -U layoutparser-0.0.0-py3-none-any.whl"
      ],
      "metadata": {
        "colab": {
          "base_uri": "https://localhost:8080/"
        },
        "id": "8gWFgGl5CXu6",
        "outputId": "c257dbea-7875-467c-ed4d-f4998341c5df"
      },
      "execution_count": 12,
      "outputs": [
        {
          "output_type": "stream",
          "name": "stdout",
          "text": [
            "--2023-05-29 04:34:29--  https://paddleocr.bj.bcebos.com/whl/layoutparser-0.0.0-py3-none-any.whl\n",
            "Resolving paddleocr.bj.bcebos.com (paddleocr.bj.bcebos.com)... 103.235.46.61, 2409:8c04:1001:1002:0:ff:b001:368a\n",
            "Connecting to paddleocr.bj.bcebos.com (paddleocr.bj.bcebos.com)|103.235.46.61|:443... connected.\n",
            "HTTP request sent, awaiting response... 200 OK\n",
            "Length: 19145360 (18M) [application/octet-stream]\n",
            "Saving to: ‘layoutparser-0.0.0-py3-none-any.whl’\n",
            "\n",
            "layoutparser-0.0.0- 100%[===================>]  18.26M  15.1MB/s    in 1.2s    \n",
            "\n",
            "2023-05-29 04:34:32 (15.1 MB/s) - ‘layoutparser-0.0.0-py3-none-any.whl’ saved [19145360/19145360]\n",
            "\n",
            "Looking in indexes: https://pypi.org/simple, https://us-python.pkg.dev/colab-wheels/public/simple/\n",
            "Processing ./layoutparser-0.0.0-py3-none-any.whl\n",
            "Requirement already satisfied: numpy in /usr/local/lib/python3.10/dist-packages (from layoutparser==0.0.0) (1.22.4)\n",
            "Requirement already satisfied: opencv-python in /usr/local/lib/python3.10/dist-packages (from layoutparser==0.0.0) (4.6.0.66)\n",
            "Requirement already satisfied: pandas in /usr/local/lib/python3.10/dist-packages (from layoutparser==0.0.0) (1.5.3)\n",
            "Requirement already satisfied: pillow in /usr/local/lib/python3.10/dist-packages (from layoutparser==0.0.0) (8.4.0)\n",
            "Requirement already satisfied: pyyaml>=5.1 in /usr/local/lib/python3.10/dist-packages (from layoutparser==0.0.0) (6.0)\n",
            "Collecting iopath (from layoutparser==0.0.0)\n",
            "  Downloading iopath-0.1.10.tar.gz (42 kB)\n",
            "\u001b[2K     \u001b[90m━━━━━━━━━━━━━━━━━━━━━━━━━━━━━━━━━━━━━━━━\u001b[0m \u001b[32m42.2/42.2 kB\u001b[0m \u001b[31m2.9 MB/s\u001b[0m eta \u001b[36m0:00:00\u001b[0m\n",
            "\u001b[?25h  Preparing metadata (setup.py) ... \u001b[?25l\u001b[?25hdone\n",
            "Requirement already satisfied: tqdm in /usr/local/lib/python3.10/dist-packages (from layoutparser==0.0.0) (4.65.0)\n",
            "Requirement already satisfied: typing_extensions in /usr/local/lib/python3.10/dist-packages (from iopath->layoutparser==0.0.0) (4.5.0)\n",
            "Collecting portalocker (from iopath->layoutparser==0.0.0)\n",
            "  Downloading portalocker-2.7.0-py2.py3-none-any.whl (15 kB)\n",
            "Requirement already satisfied: python-dateutil>=2.8.1 in /usr/local/lib/python3.10/dist-packages (from pandas->layoutparser==0.0.0) (2.8.2)\n",
            "Requirement already satisfied: pytz>=2020.1 in /usr/local/lib/python3.10/dist-packages (from pandas->layoutparser==0.0.0) (2022.7.1)\n",
            "Requirement already satisfied: six>=1.5 in /usr/local/lib/python3.10/dist-packages (from python-dateutil>=2.8.1->pandas->layoutparser==0.0.0) (1.16.0)\n",
            "Building wheels for collected packages: iopath\n",
            "  Building wheel for iopath (setup.py) ... \u001b[?25l\u001b[?25hdone\n",
            "  Created wheel for iopath: filename=iopath-0.1.10-py3-none-any.whl size=31531 sha256=2e585f88582c2707fecde4ffaad03a20b04871f6971a66dbf3042999b3ab32d3\n",
            "  Stored in directory: /root/.cache/pip/wheels/9a/a3/b6/ac0fcd1b4ed5cfeb3db92e6a0e476cfd48ed0df92b91080c1d\n",
            "Successfully built iopath\n",
            "Installing collected packages: portalocker, iopath, layoutparser\n",
            "Successfully installed iopath-0.1.10 layoutparser-0.0.0 portalocker-2.7.0\n"
          ]
        }
      ]
    },
    {
      "cell_type": "markdown",
      "source": [
        "## Table Extraction"
      ],
      "metadata": {
        "id": "w5MA08E0F8aU"
      }
    },
    {
      "cell_type": "code",
      "source": [
        "import cv2\n",
        "import layoutparser as lp\n",
        "image = cv2.imread(\"/content/pages/page0.jpg\")\n",
        "\n",
        "image = image[..., ::-1]\n",
        "\n",
        "# load model\n",
        "model = lp.PaddleDetectionLayoutModel(config_path=\"lp://PubLayNet/ppyolov2_r50vd_dcn_365e_publaynet/config\",\n",
        "                                threshold=0.5,\n",
        "                                label_map={0: \"Text\", 1: \"Title\", 2: \"List\", 3:\"Table\", 4:\"Figure\"},\n",
        "                                enforce_cpu=False,\n",
        "                                enable_mkldnn=True)#math kernel library\n",
        "# detect\n",
        "layout = model.detect(image)"
      ],
      "metadata": {
        "id": "bw9SFYnMCX0E",
        "colab": {
          "base_uri": "https://localhost:8080/"
        },
        "outputId": "429fbf1f-e83d-4e21-965d-e61e25638e76"
      },
      "execution_count": 14,
      "outputs": [
        {
          "output_type": "stream",
          "name": "stdout",
          "text": [
            "download https://paddle-model-ecology.bj.bcebos.com/model/layout-parser/ppyolov2_r50vd_dcn_365e_publaynet.tar to /root/.paddledet/inference_model/ppyolov2_r50vd_dcn_365e_publaynet/ppyolov2_r50vd_dcn_365e_publaynet_infer/ppyolov2_r50vd_dcn_365e_publaynet.tar\n"
          ]
        },
        {
          "output_type": "stream",
          "name": "stderr",
          "text": [
            "100%|██████████| 221M/221M [00:19<00:00, 11.1MiB/s]\n"
          ]
        }
      ]
    },
    {
      "cell_type": "code",
      "source": [
        "layout"
      ],
      "metadata": {
        "id": "G76oO2WXCX6v",
        "colab": {
          "base_uri": "https://localhost:8080/"
        },
        "outputId": "b3a46810-a99e-4e9a-afa3-44c7ca433246"
      },
      "execution_count": 15,
      "outputs": [
        {
          "output_type": "execute_result",
          "data": {
            "text/plain": [
              "Layout(_blocks=[TextBlock(block=Rectangle(x_1=161.880126953125, y_1=191.86767578125, x_2=6921.3388671875, y_2=5522.0595703125), text=None, id=None, type=Figure, parent=None, next=None, score=0.6567105650901794), TextBlock(block=Rectangle(x_1=74.45263671875, y_1=206.242919921875, x_2=7999.0, y_2=5558.7646484375), text=None, id=None, type=Table, parent=None, next=None, score=0.5627316236495972)], page_data={})"
            ]
          },
          "metadata": {},
          "execution_count": 15
        }
      ]
    },
    {
      "cell_type": "code",
      "source": [
        "x_1=0\n",
        "y_1=0\n",
        "x_2=0\n",
        "y_2=0\n",
        "\n",
        "for l in layout:\n",
        "  #print(l)\n",
        "  if l.type == 'Table':\n",
        "    x_1 = int(l.block.x_1)\n",
        "    print(l.block.x_1)\n",
        "    y_1 = int(l.block.y_1)\n",
        "    x_2 = int(l.block.x_2)\n",
        "    y_2 = int(l.block.y_2)\n",
        "    \n",
        "    break"
      ],
      "metadata": {
        "id": "y3h0kCz-CX_U",
        "colab": {
          "base_uri": "https://localhost:8080/"
        },
        "outputId": "c059d59f-db1e-420b-e8e6-3aa6e7dbeee3"
      },
      "execution_count": 16,
      "outputs": [
        {
          "output_type": "stream",
          "name": "stdout",
          "text": [
            "74.45264\n"
          ]
        }
      ]
    },
    {
      "cell_type": "code",
      "source": [
        "print(x_1,y_1,x_2,y_2)"
      ],
      "metadata": {
        "id": "cdiYPeCJCYIg",
        "colab": {
          "base_uri": "https://localhost:8080/"
        },
        "outputId": "d2f627a6-2146-4682-f6b1-c5be2adcc7e3"
      },
      "execution_count": 17,
      "outputs": [
        {
          "output_type": "stream",
          "name": "stdout",
          "text": [
            "74 206 7999 5558\n"
          ]
        }
      ]
    },
    {
      "cell_type": "code",
      "source": [
        "im = cv2.imread('/content/pages/page0.jpg')"
      ],
      "metadata": {
        "id": "F39kJV3hCYLV"
      },
      "execution_count": 18,
      "outputs": []
    },
    {
      "cell_type": "code",
      "source": [
        "cv2.imwrite('ext_im.jpg', im[y_1:y_2,x_1:x_2])"
      ],
      "metadata": {
        "id": "EQDXSNijCYPs",
        "colab": {
          "base_uri": "https://localhost:8080/"
        },
        "outputId": "64319afd-ceaf-4c19-8309-fb40c2d5ce82"
      },
      "execution_count": 19,
      "outputs": [
        {
          "output_type": "execute_result",
          "data": {
            "text/plain": [
              "True"
            ]
          },
          "metadata": {},
          "execution_count": 19
        }
      ]
    },
    {
      "cell_type": "code",
      "source": [],
      "metadata": {
        "id": "7O2P4aIMor_e"
      },
      "execution_count": 19,
      "outputs": []
    },
    {
      "cell_type": "markdown",
      "metadata": {
        "id": "EGwGhHnd8i_h"
      },
      "source": [
        "# Text Detection and Recognition"
      ]
    },
    {
      "cell_type": "code",
      "source": [
        "from paddleocr import PaddleOCR, draw_ocr"
      ],
      "metadata": {
        "id": "N6WQZXhLLDWk"
      },
      "execution_count": 20,
      "outputs": []
    },
    {
      "cell_type": "code",
      "source": [
        "ocr = PaddleOCR(lang='en')\n",
        "image_path = '/content/ext_im.jpg'\n",
        "image_cv = cv2.imread(image_path)\n",
        "image_height = image_cv.shape[0]\n",
        "image_width = image_cv.shape[1]\n",
        "output = ocr.ocr(image_path)[0]"
      ],
      "metadata": {
        "colab": {
          "base_uri": "https://localhost:8080/"
        },
        "id": "A8bCZ9AULDZF",
        "outputId": "b73a3496-f24a-4f3e-b9f9-8dcfae66efdf"
      },
      "execution_count": 21,
      "outputs": [
        {
          "output_type": "stream",
          "name": "stdout",
          "text": [
            "download https://paddleocr.bj.bcebos.com/PP-OCRv3/english/en_PP-OCRv3_det_infer.tar to /root/.paddleocr/whl/det/en/en_PP-OCRv3_det_infer/en_PP-OCRv3_det_infer.tar\n"
          ]
        },
        {
          "output_type": "stream",
          "name": "stderr",
          "text": [
            "100%|██████████| 4.00M/4.00M [00:00<00:00, 5.03MiB/s]\n"
          ]
        },
        {
          "output_type": "stream",
          "name": "stdout",
          "text": [
            "download https://paddleocr.bj.bcebos.com/PP-OCRv3/english/en_PP-OCRv3_rec_infer.tar to /root/.paddleocr/whl/rec/en/en_PP-OCRv3_rec_infer/en_PP-OCRv3_rec_infer.tar\n"
          ]
        },
        {
          "output_type": "stream",
          "name": "stderr",
          "text": [
            "100%|██████████| 9.96M/9.96M [00:01<00:00, 9.89MiB/s]\n"
          ]
        },
        {
          "output_type": "stream",
          "name": "stdout",
          "text": [
            "download https://paddleocr.bj.bcebos.com/dygraph_v2.0/ch/ch_ppocr_mobile_v2.0_cls_infer.tar to /root/.paddleocr/whl/cls/ch_ppocr_mobile_v2.0_cls_infer/ch_ppocr_mobile_v2.0_cls_infer.tar\n"
          ]
        },
        {
          "output_type": "stream",
          "name": "stderr",
          "text": [
            "100%|██████████| 2.19M/2.19M [00:00<00:00, 3.26MiB/s]"
          ]
        },
        {
          "output_type": "stream",
          "name": "stdout",
          "text": [
            "[2023/05/29 04:36:50] ppocr DEBUG: Namespace(help='==SUPPRESS==', use_gpu=True, use_xpu=False, use_npu=False, ir_optim=True, use_tensorrt=False, min_subgraph_size=15, precision='fp32', gpu_mem=500, image_dir=None, page_num=0, det_algorithm='DB', det_model_dir='/root/.paddleocr/whl/det/en/en_PP-OCRv3_det_infer', det_limit_side_len=960, det_limit_type='max', det_box_type='quad', det_db_thresh=0.3, det_db_box_thresh=0.6, det_db_unclip_ratio=1.5, max_batch_size=10, use_dilation=False, det_db_score_mode='fast', det_east_score_thresh=0.8, det_east_cover_thresh=0.1, det_east_nms_thresh=0.2, det_sast_score_thresh=0.5, det_sast_nms_thresh=0.2, det_pse_thresh=0, det_pse_box_thresh=0.85, det_pse_min_area=16, det_pse_scale=1, scales=[8, 16, 32], alpha=1.0, beta=1.0, fourier_degree=5, rec_algorithm='SVTR_LCNet', rec_model_dir='/root/.paddleocr/whl/rec/en/en_PP-OCRv3_rec_infer', rec_image_inverse=True, rec_image_shape='3, 48, 320', rec_batch_num=6, max_text_length=25, rec_char_dict_path='/usr/local/lib/python3.10/dist-packages/paddleocr/ppocr/utils/en_dict.txt', use_space_char=True, vis_font_path='./doc/fonts/simfang.ttf', drop_score=0.5, e2e_algorithm='PGNet', e2e_model_dir=None, e2e_limit_side_len=768, e2e_limit_type='max', e2e_pgnet_score_thresh=0.5, e2e_char_dict_path='./ppocr/utils/ic15_dict.txt', e2e_pgnet_valid_set='totaltext', e2e_pgnet_mode='fast', use_angle_cls=False, cls_model_dir='/root/.paddleocr/whl/cls/ch_ppocr_mobile_v2.0_cls_infer', cls_image_shape='3, 48, 192', label_list=['0', '180'], cls_batch_num=6, cls_thresh=0.9, enable_mkldnn=False, cpu_threads=10, use_pdserving=False, warmup=False, sr_model_dir=None, sr_image_shape='3, 32, 128', sr_batch_num=1, draw_img_save_dir='./inference_results', save_crop_res=False, crop_res_save_dir='./output', use_mp=False, total_process_num=1, process_id=0, benchmark=False, save_log_path='./log_output/', show_log=True, use_onnx=False, output='./output', table_max_len=488, table_algorithm='TableAttn', table_model_dir=None, merge_no_span_structure=True, table_char_dict_path=None, layout_model_dir=None, layout_dict_path=None, layout_score_threshold=0.5, layout_nms_threshold=0.5, kie_algorithm='LayoutXLM', ser_model_dir=None, re_model_dir=None, use_visual_backbone=True, ser_dict_path='../train_data/XFUND/class_list_xfun.txt', ocr_order_method=None, mode='structure', image_orientation=False, layout=True, table=True, ocr=True, recovery=False, use_pdf2docx_api=False, lang='en', det=True, rec=True, type='ocr', ocr_version='PP-OCRv3', structure_version='PP-StructureV2')\n"
          ]
        },
        {
          "output_type": "stream",
          "name": "stderr",
          "text": [
            "\n"
          ]
        },
        {
          "output_type": "stream",
          "name": "stdout",
          "text": [
            "[2023/05/29 04:36:51] ppocr WARNING: Since the angle classifier is not initialized, the angle classifier will not be uesd during the forward process\n",
            "[2023/05/29 04:36:52] ppocr DEBUG: dt_boxes num : 240, elapse : 0.24859285354614258\n",
            "[2023/05/29 04:36:53] ppocr DEBUG: rec_res num  : 240, elapse : 0.5618994235992432\n"
          ]
        }
      ]
    },
    {
      "cell_type": "code",
      "source": [
        "print(output)"
      ],
      "metadata": {
        "colab": {
          "base_uri": "https://localhost:8080/"
        },
        "id": "VBIDZA0XLDeA",
        "outputId": "37e682a9-6362-4e37-ff4c-ddef03f7895e"
      },
      "execution_count": 22,
      "outputs": [
        {
          "output_type": "stream",
          "name": "stdout",
          "text": [
            "[[[[1593.0, 0.0], [2287.0, 0.0], [2287.0, 84.0], [1593.0, 84.0]], (' BILL OF MATERIAL - LOWER DECK', 0.9818437695503235)], [[[4714.0, 0.0], [5102.0, 0.0], [5102.0, 84.0], [4714.0, 84.0]], (' BILL OF MATERIAL', 0.8816707730293274)], [[[5135.0, 0.0], [5407.0, 0.0], [5407.0, 84.0], [5135.0, 84.0]], ('LOWER DECK', 0.9969037771224976)], [[[454.0, 117.0], [570.0, 117.0], [570.0, 176.0], [454.0, 176.0]], ('SR.NO', 0.9935370683670044)], [[[1222.0, 109.0], [1593.0, 109.0], [1593.0, 167.0], [1222.0, 167.0]], ('BRIEF DESCRIPTION', 0.8098704814910889)], [[[2398.0, 115.0], [2489.0, 89.0], [2507.0, 155.0], [2417.0, 181.0]], ('UNIT', 0.9970378875732422)], [[[2600.0, 109.0], [2807.0, 109.0], [2807.0, 184.0], [2600.0, 184.0]], ('QUANTITY', 0.9977295398712158)], [[[3021.0, 117.0], [3178.0, 117.0], [3178.0, 176.0], [3021.0, 176.0]], ('M CODE', 0.9989734292030334)], [[[5531.0, 109.0], [5622.0, 109.0], [5622.0, 167.0], [5531.0, 167.0]], ('UNIT', 0.9981746077537537)], [[[5729.0, 109.0], [5919.0, 109.0], [5919.0, 176.0], [5729.0, 176.0]], ('QUANTITY', 0.9974117279052734)], [[[6142.0, 109.0], [6299.0, 109.0], [6299.0, 167.0], [6142.0, 167.0]], ('M CODE', 0.9994065761566162)], [[[4549.0, 192.0], [5375.0, 201.0], [5373.0, 318.0], [4548.0, 309.0]], ('AE', 0.6525046825408936)], [[[504.0, 243.0], [545.0, 243.0], [545.0, 301.0], [504.0, 301.0]], ('1.0', 0.9321948885917664)], [[[1362.0, 243.0], [1502.0, 243.0], [1502.0, 301.0], [1362.0, 301.0]], ('%^COPP', 0.9607942700386047)], [[[1577.0, 243.0], [1750.0, 243.0], [1750.0, 301.0], [1577.0, 301.0]], ('3.0 MLI', 0.7634474039077759)], [[[3616.0, 234.0], [3690.0, 234.0], [3690.0, 309.0], [3616.0, 309.0]], ('9.0', 0.9930882453918457)], [[[3591.0, 318.0], [3707.0, 318.0], [3707.0, 443.0], [3591.0, 443.0]], ('19.02', 0.6099704504013062)], [[[5531.0, 326.0], [5605.0, 326.0], [5605.0, 435.0], [5531.0, 435.0]], ('EA', 0.9836181998252869)], [[[2931.0, 343.0], [3302.0, 343.0], [3302.0, 401.0], [2931.0, 401.0]], ('LICFA90C6XXXXXXc', 0.7501718997955322)], [[[6010.0, 351.0], [6439.0, 351.0], [6439.0, 443.0], [6010.0, 443.0]], ('IYVICcFASSCXXXxXG', 0.5776715278625488)], [[[2889.0, 468.0], [3310.0, 468.0], [3310.0, 552.0], [2889.0, 552.0]], ('IYLICFAT5CXXXXG', 0.7904247045516968)], [[[3608.0, 460.0], [3690.0, 460.0], [3690.0, 527.0], [3608.0, 527.0]], ('20.0', 0.9820567965507507)], [[[487.0, 560.0], [570.0, 560.0], [570.0, 644.0], [487.0, 644.0]], ('2.0', 0.9693672060966492)], [[[4672.0, 552.0], [5019.0, 552.0], [5019.0, 610.0], [4672.0, 610.0]], ('NDING RADIUS- I2', 0.970299482345581)], [[[6035.0, 552.0], [6456.0, 552.0], [6456.0, 610.0], [6035.0, 610.0]], ('YEBCFA15XXXXXXXXG', 0.9016543030738831)], [[[4405.0, 663.0], [4667.0, 633.0], [4676.0, 717.0], [4414.0, 746.0]], ('UA.ATEEMAR', 0.7595386505126953)], [[[3599.0, 677.0], [3690.0, 677.0], [3690.0, 744.0], [3599.0, 744.0]], ('21.0', 0.9954304695129395)], [[[743.0, 711.0], [1024.0, 711.0], [1024.0, 769.0], [743.0, 769.0]], ('(600 MM CABl', 0.9354251027107239)], [[[652.0, 777.0], [1932.0, 786.0], [1931.0, 878.0], [652.0, 870.0]], ('12\"(3e*MMcCabEeTraYcoverDEadtereYpe,MM.mmeHHeicht)', 0.5599573254585266)], [[[3599.0, 786.0], [3690.0, 786.0], [3690.0, 870.0], [3599.0, 870.0]], ('21.02', 0.7342984080314636)], [[[479.0, 803.0], [586.0, 803.0], [586.0, 878.0], [479.0, 878.0]], ('2.04', 0.8595051169395447)], [[[3789.0, 794.0], [4177.0, 794.0], [4177.0, 878.0], [3789.0, 878.0]], ('22\"(366 MM CABLE', 0.777255117893219)], [[[5531.0, 794.0], [5605.0, 794.0], [5605.0, 886.0], [5531.0, 886.0]], ('EA', 0.9822871685028076)], [[[3599.0, 895.0], [3682.0, 895.0], [3682.0, 978.0], [3599.0, 978.0]], ('21.0', 0.8292641639709473)], [[[3880.0, 903.0], [4070.0, 903.0], [4070.0, 962.0], [3880.0, 962.0]], ('56MMMC', 0.7093226313591003)], [[[504.0, 928.0], [561.0, 928.0], [561.0, 987.0], [504.0, 987.0]], ('.0', 0.8005537390708923)], [[[6026.0, 920.0], [6249.0, 920.0], [6249.0, 978.0], [6026.0, 978.0]], ('YT7CFAI5C6', 0.8826442956924438)], [[[6274.0, 920.0], [6414.0, 920.0], [6414.0, 978.0], [6274.0, 978.0]], ('XXXXX', 0.767722487449646)], [[[3583.0, 987.0], [3698.0, 987.0], [3698.0, 1087.0], [3583.0, 1087.0]], ('22.0', 0.887863039970398)], [[[908.0, 1020.0], [1890.0, 1020.0], [1890.0, 1079.0], [908.0, 1079.0]], (' CABLE TRAY)- LADDER TYPE (BENDING RADIUS-', 0.9681420922279358)], [[[2914.0, 1020.0], [3352.0, 1020.0], [3352.0, 1079.0], [2914.0, 1079.0]], ('Y3HCFA30C6XXXXXXG', 0.9287352561950684)], [[[4392.0, 1070.0], [5077.0, 1070.0], [5077.0, 1154.0], [4392.0, 1154.0]], ('ADDER TYPE (BENDING RADIUS-24\")', 0.9643508195877075)], [[[5984.0, 1079.0], [6430.0, 1070.0], [6432.0, 1153.0], [5986.0, 1163.0]], ('tyuacFagoxxxxxxc', 0.5518670082092285)], [[[495.0, 1146.0], [570.0, 1146.0], [570.0, 1213.0], [495.0, 1213.0]], ('4.0', 0.9948574900627136)], [[[6010.0, 1238.0], [6423.0, 1238.0], [6423.0, 1296.0], [6010.0, 1296.0]], ('IYTXCFAI5XXXXXXXXG', 0.8744527697563171)], [[[2873.0, 1263.0], [3343.0, 1263.0], [3343.0, 1355.0], [2873.0, 1355.0]], ('YD3cFAT5XX*Xxc', 0.5673178434371948)], [[[6903.0, 1270.0], [7488.0, 1289.0], [7486.0, 1372.0], [6900.0, 1354.0]], ('OVEDFOR CONSTRUCTION', 0.9771658778190613)], [[[4392.0, 1288.0], [5275.0, 1288.0], [5275.0, 1397.0], [4392.0, 1397.0]], ('EPRAEPEE', 0.5859004259109497)], [[[3599.0, 1321.0], [3690.0, 1321.0], [3690.0, 1388.0], [3599.0, 1388.0]], ('23.0', 0.9993962049484253)], [[[4152.0, 1338.0], [4260.0, 1338.0], [4260.0, 1397.0], [4152.0, 1397.0]], ('MAXI', 0.9541659355163574)], [[[6786.0, 1338.0], [6976.0, 1338.0], [6976.0, 1397.0], [6786.0, 1397.0]], ('REVISED', 0.9956807494163513)], [[[495.0, 1380.0], [570.0, 1380.0], [570.0, 1430.0], [495.0, 1430.0]], ('5.0', 0.990412175655365)], [[[7050.0, 1380.0], [7207.0, 1380.0], [7207.0, 1438.0], [7050.0, 1438.0]], ('07/28/2022', 0.9973624348640442)], [[[3583.0, 1422.0], [3690.0, 1422.0], [3690.0, 1480.0], [3583.0, 1480.0]], ('23.01', 0.9923302531242371)], [[[6761.0, 1413.0], [6910.0, 1413.0], [6910.0, 1480.0], [6761.0, 1480.0]], ('Date:..', 0.8489260077476501)], [[[1106.0, 1514.0], [1230.0, 1514.0], [1230.0, 1572.0], [1106.0, 1572.0]], ('RAY) -', 0.9042684435844421)], [[[941.0, 1614.0], [1593.0, 1614.0], [1593.0, 1672.0], [941.0, 1672.0]], ('ABLE TRAY)-LADDER TYPE (BEN', 0.9799865484237671)], [[[1668.0, 1622.0], [1890.0, 1622.0], [1890.0, 1681.0], [1668.0, 1681.0]], ('RADIUS- 12', 0.9868460893630981)], [[[2889.0, 1614.0], [3352.0, 1614.0], [3352.0, 1672.0], [2889.0, 1672.0]], ('IYAICFAI5C6XXXXXXG', 0.9237000346183777)], [[[2435.0, 1631.0], [2477.0, 1631.0], [2477.0, 1672.0], [2435.0, 1672.0]], ('EA', 0.7321076393127441)], [[[6076.0, 1622.0], [6447.0, 1622.0], [6447.0, 1681.0], [6076.0, 1681.0]], ('ACFA32C6XXXXXXG', 0.9563875198364258)], [[[487.0, 1689.0], [570.0, 1689.0], [570.0, 1756.0], [487.0, 1756.0]], ('6.0', 0.9982500672340393)], [[[3608.0, 1689.0], [3690.0, 1689.0], [3690.0, 1764.0], [3608.0, 1764.0]], ('24.0', 0.9960180521011353)], [[[5143.0, 1689.0], [5391.0, 1689.0], [5391.0, 1748.0], [5143.0, 1748.0]], ('HORIZONTAL', 0.9478009939193726)], [[[6695.0, 1706.0], [7331.0, 1706.0], [7331.0, 1790.0], [6695.0, 1790.0]], ('A26/2RESUD FOR CONSTRUCT', 0.7589073777198792)], [[[7578.0, 1723.0], [7735.0, 1723.0], [7735.0, 1781.0], [7578.0, 1781.0]], ('RPM', 0.9685747027397156)], [[[4705.0, 1781.0], [4796.0, 1781.0], [4796.0, 1840.0], [4705.0, 1840.0]], ('DDE', 0.9852943420410156)], [[[4846.0, 1773.0], [5349.0, 1773.0], [5349.0, 1856.0], [4846.0, 1856.0]], ('YPE (BENDING RADTUS-36)', 0.9577564597129822)], [[[1502.0, 1790.0], [1956.0, 1790.0], [1956.0, 1848.0], [1502.0, 1848.0]], ('(BENDING RADIUS- 24\"', 0.9983693957328796)], [[[2898.0, 1790.0], [3352.0, 1790.0], [3352.0, 1848.0], [2898.0, 1848.0]], ('IYDQCFA6oXXXXXXXXG', 0.6635271906852722)], [[[6076.0, 1790.0], [6414.0, 1790.0], [6414.0, 1848.0], [6076.0, 1848.0]], ('RCFA93XXXXXXXX', 0.8605802655220032)], [[[7504.0, 1798.0], [7809.0, 1798.0], [7809.0, 1882.0], [7504.0, 1882.0]], ('[PREP.VERIF[APPR', 0.8837881088256836)], [[[6786.0, 1815.0], [6910.0, 1815.0], [6910.0, 1873.0], [6786.0, 1873.0]], ('DATE', 0.9956490993499756)], [[[6711.0, 1831.0], [6786.0, 1831.0], [6786.0, 1882.0], [6711.0, 1882.0]], ('NO.', 0.8406580090522766)], [[[1196.0, 1891.0], [1550.0, 1872.0], [1553.0, 1931.0], [1199.0, 1950.0]], ('- LADDER TYPE (', 0.9826314449310303)], [[[4879.0, 1890.0], [5292.0, 1890.0], [5292.0, 1948.0], [4879.0, 1948.0]], ('PE (BENDING RADIUS-', 0.9969128966331482)], [[[7025.0, 1882.0], [7479.0, 1882.0], [7479.0, 1940.0], [7025.0, 1940.0]], ('LTHE-S7 REVISION CONTROL', 0.9038316607475281)], [[[6999.0, 1949.0], [7510.0, 1931.0], [7513.0, 2014.0], [7002.0, 2033.0]], ('ReFerence DrAWInGS', 0.6470019817352295)], [[[1370.0, 1982.0], [1494.0, 1982.0], [1494.0, 2040.0], [1370.0, 2040.0]], ('ELBOV', 0.9625166654586792)], [[[4838.0, 1990.0], [5292.0, 1990.0], [5292.0, 2049.0], [4838.0, 2049.0]], ('TYPE (BENDING RADIUS-', 0.9732071161270142)], [[[6084.0, 1990.0], [6447.0, 1990.0], [6447.0, 2049.0], [6084.0, 2049.0]], ('CFA32XXXXXXXXG', 0.9189690351486206)], [[[479.0, 2015.0], [570.0, 2015.0], [570.0, 2091.0], [479.0, 2091.0]], ('7.0', 0.9957850575447083)], [[[3583.0, 2049.0], [3698.0, 2049.0], [3698.0, 2149.0], [3583.0, 2149.0]], ('25.06', 0.8090723156929016)], [[[4508.0, 2049.0], [5358.0, 2057.0], [5357.0, 2124.0], [4507.0, 2116.0]], ('M orad.4%ccoppery,t5i25mm) load depth', 0.7763670682907104)], [[[7562.0, 2074.0], [7768.0, 2074.0], [7768.0, 2132.0], [7562.0, 2132.0]], ('CA-928700', 0.9977558851242065)], [[[2906.0, 2107.0], [3360.0, 2107.0], [3360.0, 2191.0], [2906.0, 2191.0]], ('YD2CFAI5C6XXXxXc', 0.7623552083969116)], [[[487.0, 2132.0], [561.0, 2132.0], [561.0, 2183.0], [487.0, 2183.0]], ('7.01', 0.973983883857727)], [[[6002.0, 2141.0], [6431.0, 2141.0], [6431.0, 2233.0], [6002.0, 2233.0]], ('IYRICFA93C6XXXXG', 0.7004140615463257)], [[[6701.0, 2143.0], [7517.0, 2097.0], [7523.0, 2206.0], [6707.0, 2252.0]], ('SUSERICALNATIN DRNNG CABE TRAS', 0.6023680567741394)], [[[7545.0, 2166.0], [7743.0, 2166.0], [7743.0, 2224.0], [7545.0, 2224.0]], ('CA-927185', 0.9920182824134827)], [[[487.0, 2199.0], [570.0, 2199.0], [570.0, 2266.0], [487.0, 2266.0]], ('8.0', 0.9978570938110352)], [[[7157.0, 2241.0], [7454.0, 2241.0], [7454.0, 2300.0], [7157.0, 2300.0]], ('ZING CALCULATION', 0.9860482215881348)], [[[6720.0, 2266.0], [6926.0, 2266.0], [6926.0, 2325.0], [6720.0, 2325.0]], ('MRJNIRP-AL3', 0.7613952159881592)], [[[7512.0, 2258.0], [7818.0, 2258.0], [7818.0, 2316.0], [7512.0, 2316.0]], ('EL-G75-CA-4733', 0.9985342025756836)], [[[446.0, 2291.0], [570.0, 2291.0], [570.0, 2350.0], [446.0, 2350.0]], ('8.01', 0.9892085194587708)], [[[1527.0, 2291.0], [1824.0, 2291.0], [1824.0, 2350.0], [1527.0, 2350.0]], ('ENDING RADIUS-', 0.9657983779907227)], [[[2881.0, 2291.0], [3352.0, 2291.0], [3352.0, 2350.0], [2881.0, 2350.0]], ('IYD6CFaI5XXXXXXXXG', 0.7494902014732361)], [[[3591.0, 2325.0], [3690.0, 2325.0], [3690.0, 2400.0], [3591.0, 2400.0]], ('26.0', 0.9984672665596008)], [[[6711.0, 2342.0], [6918.0, 2342.0], [6918.0, 2433.0], [6711.0, 2433.0]], ('ENBICALA', 0.8618590831756592)], [[[6985.0, 2349.0], [7323.0, 2359.0], [7321.0, 2443.0], [6983.0, 2433.0]], ('ERATION TMRJN TP-13', 0.7692287564277649)], [[[7578.0, 2350.0], [7760.0, 2350.0], [7760.0, 2417.0], [7578.0, 2417.0]], ('CA-923180', 0.9100908637046814)], [[[479.0, 2375.0], [570.0, 2375.0], [570.0, 2433.0], [479.0, 2433.0]], ('9.0', 0.9995487332344055)], [[[3806.0, 2408.0], [4103.0, 2408.0], [4103.0, 2467.0], [3806.0, 2467.0]], ('36\"(9E1MM)TO', 0.7831843495368958)], [[[4301.0, 2408.0], [4615.0, 2408.0], [4615.0, 2492.0], [4301.0, 2492.0]], ('MM CABLE TRAY', 0.9430474042892456)], [[[4672.0, 2417.0], [4920.0, 2417.0], [4920.0, 2475.0], [4672.0, 2475.0]], ('LADDER TYPE', 0.996730387210846)], [[[6001.0, 2409.0], [6438.0, 2399.0], [6440.0, 2491.0], [6003.0, 2501.0]], ('IYxIcFa93 XxXXXxc', 0.5938377976417542)], [[[6720.0, 2442.0], [7075.0, 2442.0], [7075.0, 2534.0], [6720.0, 2534.0]], ('EUWERRICACK CARJN T', 0.8569883108139038)], [[[6002.0, 2500.0], [6439.0, 2500.0], [6439.0, 2592.0], [6002.0, 2592.0]], ('IYxIcFA52xxxXxXxc', 0.5305194854736328)], [[[4714.0, 2525.0], [4895.0, 2525.0], [4895.0, 2584.0], [4714.0, 2584.0]], ('DER TYPE', 0.9933662414550781)], [[[7826.0, 2534.0], [7900.0, 2534.0], [7900.0, 2617.0], [7826.0, 2617.0]], ('3', 0.7366394400596619)], [[[4705.0, 2609.0], [5349.0, 2609.0], [5349.0, 2668.0], [4705.0, 2668.0]], ('COPPER),5(125MM) LOAD DEPTH', 0.926068902015686)], [[[4507.0, 2693.0], [4829.0, 2693.0], [4829.0, 2751.0], [4507.0, 2751.0]], ('TRAY - LADDER', 0.9582962393760681)], [[[6018.0, 2684.0], [6456.0, 2684.0], [6456.0, 2768.0], [6018.0, 2768.0]], ('YR2CFA96 C6XXXXc', 0.8568669557571411)], [[[3583.0, 2701.0], [3690.0, 2701.0], [3690.0, 2760.0], [3583.0, 2760.0]], ('27.01', 0.996194064617157)], [[[3591.0, 2877.0], [3690.0, 2877.0], [3690.0, 2935.0], [3591.0, 2935.0]], ('28.0', 0.9969143867492676)], [[[520.0, 2935.0], [561.0, 2935.0], [561.0, 2985.0], [520.0, 2985.0]], ('.0', 0.9862318634986877)], [[[3591.0, 2952.0], [3690.0, 2952.0], [3690.0, 3027.0], [3591.0, 3027.0]], ('28.0', 0.9641342759132385)], [[[5993.0, 2952.0], [6431.0, 2952.0], [6431.0, 3036.0], [5993.0, 3036.0]], ('IYxjcFa96xxxxxc', 0.6554085612297058)], [[[1412.0, 3010.0], [1965.0, 3010.0], [1965.0, 3102.0], [1412.0, 3102.0]], ('TYPE (BENDING RADIUS- 36\"}', 0.8673875331878662)], [[[733.0, 3020.0], [963.0, 3000.0], [968.0, 3059.0], [738.0, 3079.0]], (\"'(900 MM C\", 0.8305574655532837)], [[[923.0, 3028.0], [1352.0, 3009.0], [1356.0, 3093.0], [927.0, 3112.0]], (' CABLE TrAY-LADDE', 0.7386126518249512)], [[[2988.0, 3027.0], [3352.0, 3027.0], [3352.0, 3086.0], [2988.0, 3086.0]], ('CFA90C6XXXXXXG', 0.8666470646858215)], [[[3583.0, 3027.0], [3698.0, 3027.0], [3698.0, 3128.0], [3583.0, 3128.0]], ('28.83', 0.6504682302474976)], [[[6018.0, 3061.0], [6439.0, 3061.0], [6439.0, 3119.0], [6018.0, 3119.0]], ('YXJCFA32XXXXXXXXG', 0.9686908721923828)], [[[1196.0, 3120.0], [1509.0, 3110.0], [1511.0, 3177.0], [1198.0, 3187.0]], ('- LADDER TYPE', 0.983356237411499)], [[[1518.0, 3120.0], [1890.0, 3110.0], [1892.0, 3194.0], [1520.0, 3204.0]], ('(BENDING RADIUS-', 0.835608184337616)], [[[2658.0, 3144.0], [2799.0, 3144.0], [2799.0, 3211.0], [2658.0, 3211.0]], ('2100A', 0.6526018977165222)], [[[3591.0, 3144.0], [3690.0, 3144.0], [3690.0, 3211.0], [3591.0, 3211.0]], ('29.0', 0.9992814064025879)], [[[677.0, 3211.0], [999.0, 3211.0], [999.0, 3270.0], [677.0, 3270.0]], ('COVer VeNtILAt', 0.6382026076316833)], [[[4634.0, 3210.0], [4897.0, 3229.0], [4893.0, 3288.0], [4629.0, 3268.0]], ('-LADDER TYP', 0.8920392990112305)], [[[3583.0, 3220.0], [3707.0, 3220.0], [3707.0, 3303.0], [3583.0, 3303.0]], ('29.61', 0.9548566937446594)], [[[5531.0, 3220.0], [5614.0, 3220.0], [5614.0, 3295.0], [5531.0, 3295.0]], ('EA', 0.9634253978729248)], [[[5993.0, 3228.0], [6423.0, 3228.0], [6423.0, 3286.0], [5993.0, 3286.0]], ('IYR3CFA32C6XXXXXXG', 0.8179836273193359)], [[[495.0, 3245.0], [586.0, 3245.0], [586.0, 3312.0], [495.0, 3312.0]], ('2.0', 0.9915236830711365)], [[[1205.0, 3245.0], [1395.0, 3245.0], [1395.0, 3303.0], [1205.0, 3303.0]], ('OPPERI`AS', 0.802146315574646)], [[[3599.0, 3312.0], [3690.0, 3312.0], [3690.0, 3370.0], [3599.0, 3370.0]], ('30.0', 0.9975606203079224)], [[[3807.0, 3453.0], [4129.0, 3463.0], [4126.0, 3546.0], [3805.0, 3537.0]], ('SPLICEASTAERS&', 0.9154902696609497)], [[[743.0, 3487.0], [1560.0, 3487.0], [1560.0, 3546.0], [743.0, 3546.0]], ('150 MM CABLE TRAY)- LADDER TYPE (BE', 0.9802157878875732)], [[[2889.0, 3487.0], [3343.0, 3487.0], [3343.0, 3546.0], [2889.0, 3546.0]], ('IYEHCFAI5XXXXXXXXG', 0.8298590779304504)], [[[1370.0, 3537.0], [2188.0, 3537.0], [2188.0, 3646.0], [1370.0, 3646.0]], ('ME', 0.6280032396316528)], [[[495.0, 3571.0], [570.0, 3571.0], [570.0, 3638.0], [495.0, 3638.0]], ('3.0', 0.9957267642021179)], [[[5514.0, 3579.0], [5622.0, 3579.0], [5622.0, 3654.0], [5514.0, 3654.0]], ('PAIR', 0.9945541620254517)], [[[6018.0, 3579.0], [6431.0, 3579.0], [6431.0, 3663.0], [6018.0, 3663.0]], ('YHtCFaXXc6XXxXXxG', 0.552988588809967)], [[[3797.0, 3596.0], [4763.0, 3596.0], [4763.0, 3680.0], [3797.0, 3680.0]], ('EAETEMIADDERSMPWARCESSRIFSCOMANETE SET', 0.7180854678153992)], [[[7826.0, 3613.0], [7875.0, 3613.0], [7875.0, 3688.0], [7826.0, 3688.0]], ('3', 0.9901229739189148)], [[[1511.0, 3671.0], [1956.0, 3671.0], [1956.0, 3730.0], [1511.0, 3730.0]], ('(BENDING RADIUS- 36\")', 0.9649559855461121)], [[[7818.0, 3671.0], [7875.0, 3671.0], [7875.0, 3855.0], [7818.0, 3855.0]], ('TOS 3HL', 0.6440258026123047)], [[[3797.0, 3688.0], [4714.0, 3688.0], [4714.0, 3797.0], [3797.0, 3797.0]], ('EPANSTONSPWIE PLATNERSACCESORIES AS', 0.7283911108970642)], [[[2873.0, 3746.0], [3310.0, 3746.0], [3310.0, 3830.0], [2873.0, 3830.0]], ('IYVBCFAT5C6XXXXXG', 0.7559475898742676)], [[[5490.0, 3822.0], [5638.0, 3822.0], [5638.0, 3914.0], [5490.0, 3914.0]], ('PAIR', 0.9875789880752563)], [[[3583.0, 3838.0], [3682.0, 3838.0], [3682.0, 3897.0], [3583.0, 3897.0]], ('32.01', 0.9966557621955872)], [[[6018.0, 3830.0], [6447.0, 3830.0], [6447.0, 3914.0], [6018.0, 3914.0]], ('YE@cFaXXc6xxxXxxG', 0.5325126051902771)], [[[504.0, 3855.0], [561.0, 3855.0], [561.0, 3897.0], [504.0, 3897.0]], ('4.0', 0.9962841868400574)], [[[1263.0, 3855.0], [1436.0, 3855.0], [1436.0, 3914.0], [1263.0, 3914.0]], ('PER)AS..', 0.7962504625320435)], [[[7818.0, 3880.0], [7875.0, 3880.0], [7875.0, 3989.0], [7818.0, 3989.0]], ('ARE', 0.8180616497993469)], [[[6018.0, 3947.0], [6439.0, 3947.0], [6439.0, 4031.0], [6018.0, 4031.0]], ('IYBZZZXXxXXXG', 0.5859228372573853)], [[[3806.0, 3964.0], [4169.0, 3964.0], [4169.0, 4022.0], [3806.0, 4022.0]], ('BANDING STRAP SS', 0.993865966796875)], [[[4549.0, 3972.0], [4862.0, 3972.0], [4862.0, 4031.0], [4549.0, 4031.0]], ('=30.08 METERS)', 0.9843009114265442)], [[[7182.0, 4014.0], [7339.0, 4014.0], [7339.0, 4081.0], [7182.0, 4081.0]], ('SCALE', 0.9984280467033386)], [[[3806.0, 4039.0], [4656.0, 4039.0], [4656.0, 4098.0], [3806.0, 4098.0]], ('3LIND END FOR LADDER TYPE CABLE TRAY', 0.9858758449554443)], [[[1404.0, 4080.0], [2262.0, 4090.0], [2261.0, 4207.0], [1403.0, 4198.0]], ('FAEAE', 0.649711012840271)], [[[5993.0, 4098.0], [6381.0, 4098.0], [6381.0, 4156.0], [5993.0, 4156.0]], ('IYEICFAI5C6XXXXXX', 0.9584398865699768)], [[[504.0, 4123.0], [578.0, 4123.0], [578.0, 4190.0], [504.0, 4190.0]], ('5.0', 0.9925044178962708)], [[[7099.0, 4165.0], [7215.0, 4165.0], [7215.0, 4223.0], [7099.0, 4223.0]], ('SCALE:', 0.994541585445404)], [[[7215.0, 4156.0], [7364.0, 4156.0], [7364.0, 4223.0], [7215.0, 4223.0]], ('N.T.S', 0.9794333577156067)], [[[3822.0, 4181.0], [4284.0, 4181.0], [4284.0, 4265.0], [3822.0, 4265.0]], ('1\"(600 MM CABLE TRA)', 0.8501127362251282)], [[[5985.0, 4181.0], [6390.0, 4181.0], [6390.0, 4265.0], [5985.0, 4265.0]], ('IYE|CFA6GC6XXXXXC', 0.8043653964996338)], [[[2873.0, 4348.0], [3319.0, 4348.0], [3319.0, 4432.0], [2873.0, 4432.0]], ('IYV2CFAI5c6XXxXxxG', 0.6909071803092957)], [[[6761.0, 4365.0], [7042.0, 4365.0], [7042.0, 4424.0], [6761.0, 4424.0]], ('REGUIREMENTN, Per S', 0.6288271546363831)], [[[7545.0, 4365.0], [7752.0, 4365.0], [7752.0, 4424.0], [7545.0, 4424.0]], ('PERTIFICATA NON', 0.7774652242660522)], [[[6786.0, 4491.0], [7108.0, 4491.0], [7108.0, 4549.0], [6786.0, 4549.0]], ('ESIGESICERTIENCATION', 0.8868110775947571)], [[[7132.0, 4482.0], [7776.0, 4482.0], [7776.0, 4566.0], [7132.0, 4566.0]], ('EMeaWirEeR KexuBPAwNCSOtHer', 0.5752249360084534)], [[[735.0, 4507.0], [1436.0, 4507.0], [1436.0, 4591.0], [735.0, 4591.0]], ('TCAL MMSCAbLE BRAY=EAdDer NS', 0.5643815398216248)], [[[1487.0, 4507.0], [1957.0, 4516.0], [1956.0, 4600.0], [1485.0, 4591.0]], ('W(DENDING RADIUS- 36\"', 0.9137056469917297)], [[[2906.0, 4532.0], [3310.0, 4532.0], [3310.0, 4591.0], [2906.0, 4591.0]], ('Y3VCFA90XXXXXXXXG', 0.817861795425415)], [[[7215.0, 4675.0], [7339.0, 4675.0], [7339.0, 4733.0], [7215.0, 4733.0]], ('TRUCTION', 0.9819408655166626)], [[[6819.0, 4750.0], [7108.0, 4750.0], [7108.0, 4808.0], [6819.0, 4808.0]], ('R22N-0003', 0.6182329654693604)], [[[512.0, 4767.0], [578.0, 4767.0], [578.0, 4842.0], [512.0, 4842.0]], ('7.0', 0.7851690649986267)], [[[6819.0, 4825.0], [7702.0, 4825.0], [7702.0, 4884.0], [6819.0, 4884.0]], ('SAUDI ARABIAN OIL COMPANY', 0.9886655211448669)], [[[495.0, 4850.0], [578.0, 4850.0], [578.0, 4926.0], [495.0, 4926.0]], ('7.01', 0.9713457822799683)], [[[3046.0, 4859.0], [3335.0, 4859.0], [3335.0, 4917.0], [3046.0, 4917.0]], ('30C6XXXXXXG', 0.9463926553726196)], [[[2658.0, 4892.0], [2807.0, 4892.0], [2807.0, 4959.0], [2658.0, 4959.0]], ('15 3004', 0.5118628740310669)], [[[6704.0, 4883.0], [7826.0, 4892.0], [7826.0, 4976.0], [6703.0, 4967.0]], ('Electrical cable tray layout \"cel\"', 0.78285813331604)], [[[7091.0, 4967.0], [7413.0, 4967.0], [7413.0, 5026.0], [7091.0, 5026.0]], ('LOWER DECK', 0.9975160360336304)], [[[495.0, 4984.0], [578.0, 4984.0], [578.0, 5059.0], [495.0, 5059.0]], ('8.0', 0.970167338848114)], [[[7091.0, 5034.0], [7413.0, 5034.0], [7413.0, 5093.0], [7091.0, 5093.0]], ('MRJN TP-I3', 0.953485369682312)], [[[1195.0, 5044.0], [1475.0, 5024.0], [1479.0, 5083.0], [1199.0, 5103.0]], ('OF FOLLOWING', 0.8971454501152039)], [[[6695.0, 5084.0], [6918.0, 5084.0], [6918.0, 5168.0], [6695.0, 5168.0]], ('MARJAN', 0.986896812915802)], [[[7471.0, 5093.0], [7768.0, 5093.0], [7768.0, 5151.0], [7471.0, 5151.0]], ('AUDI ARABIA', 0.9789575338363647)], [[[479.0, 5118.0], [570.0, 5118.0], [570.0, 5185.0], [479.0, 5185.0]], ('18.02', 0.8352127075195312)], [[[660.0, 5118.0], [1948.0, 5118.0], [1948.0, 5201.0], [660.0, 5201.0]], ('6\"(15% MM CABLE TRAY)- LADDER TYPE (BENDING RADIUS- 12\")', 0.860921323299408)], [[[2840.0, 5109.0], [3335.0, 5109.0], [3335.0, 5193.0], [2840.0, 5193.0]], ('IYERCFAI5XXXXXXc', 0.7560878992080688)], [[[6365.0, 5118.0], [6687.0, 5118.0], [6687.0, 5201.0], [6365.0, 5201.0]], ('PLATFoRM PREFIX No.', 0.7357772588729858)], [[[6695.0, 5168.0], [6992.0, 5168.0], [6992.0, 5285.0], [6695.0, 5285.0]], ('c75P', 0.7386779189109802)], [[[6472.0, 5185.0], [6612.0, 5185.0], [6612.0, 5277.0], [6472.0, 5277.0]], ('46', 0.9998239278793335)], [[[7446.0, 5193.0], [7867.0, 5193.0], [7867.0, 5277.0], [7446.0, 5277.0]], ('00600A', 0.9268126487731934)]]\n"
          ]
        }
      ]
    },
    {
      "cell_type": "code",
      "source": [
        "boxes = [line[0] for line in output]\n",
        "texts = [line[1][0] for line in output]\n",
        "probabilities = [line[1][1] for line in output]"
      ],
      "metadata": {
        "id": "nNMBAQ78LDgG"
      },
      "execution_count": 23,
      "outputs": []
    },
    {
      "cell_type": "code",
      "source": [
        "image_boxes = image_cv.copy()\n"
      ],
      "metadata": {
        "id": "uukcg4SWV_dg"
      },
      "execution_count": 24,
      "outputs": []
    },
    {
      "cell_type": "code",
      "source": [
        "for box,text in zip(boxes,texts):\n",
        "  cv2.rectangle(image_boxes, (int(box[0][0]),int(box[0][1])), (int(box[2][0]),int(box[2][1])),(0,0,255),1)\n",
        "  cv2.putText(image_boxes, text,(int(box[0][0]),int(box[0][1])),cv2.FONT_HERSHEY_SIMPLEX,1,(222,0,0),1)"
      ],
      "metadata": {
        "id": "l_HzbiA7V_fw"
      },
      "execution_count": 25,
      "outputs": []
    },
    {
      "cell_type": "code",
      "source": [
        "cv2.imwrite('detections.jpg', image_boxes)"
      ],
      "metadata": {
        "colab": {
          "base_uri": "https://localhost:8080/"
        },
        "id": "PfUG9mcgV_iJ",
        "outputId": "09837d37-af73-45b8-d708-e6698a99a4c4"
      },
      "execution_count": 26,
      "outputs": [
        {
          "output_type": "execute_result",
          "data": {
            "text/plain": [
              "True"
            ]
          },
          "metadata": {},
          "execution_count": 26
        }
      ]
    },
    {
      "cell_type": "markdown",
      "metadata": {
        "id": "kYWt0lzDHZNp"
      },
      "source": [
        "# Reconstruction"
      ]
    },
    {
      "cell_type": "markdown",
      "source": [
        "## Get Horizontal and Vertical Lines"
      ],
      "metadata": {
        "id": "ruzifYJz4H6y"
      }
    },
    {
      "cell_type": "code",
      "source": [
        "im = image_cv.copy()"
      ],
      "metadata": {
        "id": "YLIoKedcqby_"
      },
      "execution_count": 27,
      "outputs": []
    },
    {
      "cell_type": "code",
      "source": [
        "horiz_boxes = []\n",
        "vert_boxes = []\n",
        "\n",
        "for box in boxes:\n",
        "  x_h, x_v = 0,int(box[0][0])\n",
        "  y_h, y_v = int(box[0][1]),0\n",
        "  width_h,width_v = image_width, int(box[2][0]-box[0][0])\n",
        "  height_h,height_v = int(box[2][1]-box[0][1]),image_height\n",
        "\n",
        "  horiz_boxes.append([x_h,y_h,x_h+width_h,y_h+height_h])\n",
        "  vert_boxes.append([x_v,y_v,x_v+width_v,y_v+height_v])\n",
        "\n",
        "  cv2.rectangle(im,(x_h,y_h), (x_h+width_h,y_h+height_h),(0,0,255),1)\n",
        "  cv2.rectangle(im,(x_v,y_v), (x_v+width_v,y_v+height_v),(0,255,0),1)\n",
        "  "
      ],
      "metadata": {
        "id": "GwcAAe-wccnF"
      },
      "execution_count": 28,
      "outputs": []
    },
    {
      "cell_type": "code",
      "source": [
        "cv2.imwrite('horiz_vert.jpg',im)"
      ],
      "metadata": {
        "colab": {
          "base_uri": "https://localhost:8080/"
        },
        "id": "7UxFGhMkccph",
        "outputId": "7d261cf8-0319-4a5c-e362-6f22020e8a9c"
      },
      "execution_count": 29,
      "outputs": [
        {
          "output_type": "execute_result",
          "data": {
            "text/plain": [
              "True"
            ]
          },
          "metadata": {},
          "execution_count": 29
        }
      ]
    },
    {
      "cell_type": "markdown",
      "source": [
        "## Non-Max Suppression"
      ],
      "metadata": {
        "id": "ekVFvJrM4ROL"
      }
    },
    {
      "cell_type": "code",
      "source": [
        "horiz_out = tf.image.non_max_suppression(\n",
        "    horiz_boxes,\n",
        "    probabilities,\n",
        "    max_output_size = 1000,\n",
        "    iou_threshold=0.1,\n",
        "    score_threshold=float('-inf'),\n",
        "    name=None\n",
        ")"
      ],
      "metadata": {
        "id": "4LVSSB2fcoe7"
      },
      "execution_count": 30,
      "outputs": []
    },
    {
      "cell_type": "code",
      "source": [
        "horiz_lines = np.sort(np.array(horiz_out))\n",
        "print(horiz_lines)"
      ],
      "metadata": {
        "colab": {
          "base_uri": "https://localhost:8080/"
        },
        "id": "pOboYpGnccr2",
        "outputId": "e31f4433-d3e1-4da2-8d96-641c86ce3554"
      },
      "execution_count": 31,
      "outputs": [
        {
          "output_type": "stream",
          "name": "stdout",
          "text": [
            "[  2  10  15  17  21  23  26  32  36  39  41  43  44  48  52  55  57  61\n",
            "  68  75  79  84  86  90  93 101 106 108 110 113 114 115 119 123 127 133\n",
            " 135 137 140 145 148 150 156 158 161 163 169 173 175 176 178 182 183 185\n",
            " 187 194]\n"
          ]
        }
      ]
    },
    {
      "cell_type": "code",
      "source": [
        "im_nms = image_cv.copy()"
      ],
      "metadata": {
        "id": "pfxHrn3iccyK"
      },
      "execution_count": 32,
      "outputs": []
    },
    {
      "cell_type": "code",
      "source": [
        "for val in horiz_lines:\n",
        "  cv2.rectangle(im_nms, (int(horiz_boxes[val][0]),int(horiz_boxes[val][1])), (int(horiz_boxes[val][2]),int(horiz_boxes[val][3])),(0,0,255),1)\n",
        "  "
      ],
      "metadata": {
        "id": "68PCHfmZcc0L"
      },
      "execution_count": 33,
      "outputs": []
    },
    {
      "cell_type": "code",
      "source": [
        "cv2.imwrite('im_nms.jpg',im_nms)"
      ],
      "metadata": {
        "colab": {
          "base_uri": "https://localhost:8080/"
        },
        "id": "Z8r9qpiAcc2X",
        "outputId": "b7e99816-aafe-4981-d79f-8c1bb68802b7"
      },
      "execution_count": 34,
      "outputs": [
        {
          "output_type": "execute_result",
          "data": {
            "text/plain": [
              "True"
            ]
          },
          "metadata": {},
          "execution_count": 34
        }
      ]
    },
    {
      "cell_type": "code",
      "source": [
        "vert_out = tf.image.non_max_suppression(\n",
        "    vert_boxes,\n",
        "    probabilities,\n",
        "    max_output_size = 1000,\n",
        "    iou_threshold=0.1,\n",
        "    score_threshold=float('-inf'),\n",
        "    name=None\n",
        ")"
      ],
      "metadata": {
        "id": "mKgPuh7rcc4s"
      },
      "execution_count": 35,
      "outputs": []
    },
    {
      "cell_type": "code",
      "source": [
        "print(vert_out)"
      ],
      "metadata": {
        "colab": {
          "base_uri": "https://localhost:8080/"
        },
        "id": "GBpKsImVcc6p",
        "outputId": "31cd8af5-ddd4-45da-966c-91cdefe539ba"
      },
      "execution_count": 36,
      "outputs": [
        {
          "output_type": "stream",
          "name": "stdout",
          "text": [
            "tf.Tensor(\n",
            "[194 101  10  48   7  93 158  68   8   6   9  52   5  75 104  50 156 144\n",
            " 124  49 103  27  55  73  37], shape=(25,), dtype=int32)\n"
          ]
        }
      ]
    },
    {
      "cell_type": "code",
      "source": [
        "vert_lines = np.sort(np.array(vert_out))\n",
        "print(vert_lines)"
      ],
      "metadata": {
        "colab": {
          "base_uri": "https://localhost:8080/"
        },
        "id": "K0lBh-yz5YLp",
        "outputId": "5f4e8308-e91e-414b-b6c8-e47269868517"
      },
      "execution_count": 37,
      "outputs": [
        {
          "output_type": "stream",
          "name": "stdout",
          "text": [
            "[  5   6   7   8   9  10  27  37  48  49  50  52  55  68  73  75  93 101\n",
            " 103 104 124 144 156 158 194]\n"
          ]
        }
      ]
    },
    {
      "cell_type": "code",
      "source": [
        "for val in vert_lines:\n",
        "  cv2.rectangle(im_nms, (int(vert_boxes[val][0]),int(vert_boxes[val][1])), (int(vert_boxes[val][2]),int(vert_boxes[val][3])),(255,0,0),1)\n",
        "  "
      ],
      "metadata": {
        "id": "WqsLm0L_cc84"
      },
      "execution_count": 38,
      "outputs": []
    },
    {
      "cell_type": "code",
      "source": [
        "cv2.imwrite('im_nms.jpg',im_nms)"
      ],
      "metadata": {
        "colab": {
          "base_uri": "https://localhost:8080/"
        },
        "id": "xZOEa7lpcdGM",
        "outputId": "553b76f2-b2d1-4f31-bc18-a8f0e12944b2"
      },
      "execution_count": 39,
      "outputs": [
        {
          "output_type": "execute_result",
          "data": {
            "text/plain": [
              "True"
            ]
          },
          "metadata": {},
          "execution_count": 39
        }
      ]
    },
    {
      "cell_type": "markdown",
      "source": [
        "## Convert to CSV"
      ],
      "metadata": {
        "id": "116eBUrO93-i"
      }
    },
    {
      "cell_type": "code",
      "source": [
        "\n",
        "\n",
        "out_array = [[\"\" for i in range(len(vert_lines))] for j in range(len(horiz_lines))]\n",
        "print(np.array(out_array).shape)\n",
        "print(out_array)"
      ],
      "metadata": {
        "colab": {
          "base_uri": "https://localhost:8080/"
        },
        "id": "HRQzwVUTcdIq",
        "outputId": "ab4cebd7-3a39-4525-d143-1ececb3432b1"
      },
      "execution_count": 40,
      "outputs": [
        {
          "output_type": "stream",
          "name": "stdout",
          "text": [
            "(56, 25)\n",
            "[['', '', '', '', '', '', '', '', '', '', '', '', '', '', '', '', '', '', '', '', '', '', '', '', ''], ['', '', '', '', '', '', '', '', '', '', '', '', '', '', '', '', '', '', '', '', '', '', '', '', ''], ['', '', '', '', '', '', '', '', '', '', '', '', '', '', '', '', '', '', '', '', '', '', '', '', ''], ['', '', '', '', '', '', '', '', '', '', '', '', '', '', '', '', '', '', '', '', '', '', '', '', ''], ['', '', '', '', '', '', '', '', '', '', '', '', '', '', '', '', '', '', '', '', '', '', '', '', ''], ['', '', '', '', '', '', '', '', '', '', '', '', '', '', '', '', '', '', '', '', '', '', '', '', ''], ['', '', '', '', '', '', '', '', '', '', '', '', '', '', '', '', '', '', '', '', '', '', '', '', ''], ['', '', '', '', '', '', '', '', '', '', '', '', '', '', '', '', '', '', '', '', '', '', '', '', ''], ['', '', '', '', '', '', '', '', '', '', '', '', '', '', '', '', '', '', '', '', '', '', '', '', ''], ['', '', '', '', '', '', '', '', '', '', '', '', '', '', '', '', '', '', '', '', '', '', '', '', ''], ['', '', '', '', '', '', '', '', '', '', '', '', '', '', '', '', '', '', '', '', '', '', '', '', ''], ['', '', '', '', '', '', '', '', '', '', '', '', '', '', '', '', '', '', '', '', '', '', '', '', ''], ['', '', '', '', '', '', '', '', '', '', '', '', '', '', '', '', '', '', '', '', '', '', '', '', ''], ['', '', '', '', '', '', '', '', '', '', '', '', '', '', '', '', '', '', '', '', '', '', '', '', ''], ['', '', '', '', '', '', '', '', '', '', '', '', '', '', '', '', '', '', '', '', '', '', '', '', ''], ['', '', '', '', '', '', '', '', '', '', '', '', '', '', '', '', '', '', '', '', '', '', '', '', ''], ['', '', '', '', '', '', '', '', '', '', '', '', '', '', '', '', '', '', '', '', '', '', '', '', ''], ['', '', '', '', '', '', '', '', '', '', '', '', '', '', '', '', '', '', '', '', '', '', '', '', ''], ['', '', '', '', '', '', '', '', '', '', '', '', '', '', '', '', '', '', '', '', '', '', '', '', ''], ['', '', '', '', '', '', '', '', '', '', '', '', '', '', '', '', '', '', '', '', '', '', '', '', ''], ['', '', '', '', '', '', '', '', '', '', '', '', '', '', '', '', '', '', '', '', '', '', '', '', ''], ['', '', '', '', '', '', '', '', '', '', '', '', '', '', '', '', '', '', '', '', '', '', '', '', ''], ['', '', '', '', '', '', '', '', '', '', '', '', '', '', '', '', '', '', '', '', '', '', '', '', ''], ['', '', '', '', '', '', '', '', '', '', '', '', '', '', '', '', '', '', '', '', '', '', '', '', ''], ['', '', '', '', '', '', '', '', '', '', '', '', '', '', '', '', '', '', '', '', '', '', '', '', ''], ['', '', '', '', '', '', '', '', '', '', '', '', '', '', '', '', '', '', '', '', '', '', '', '', ''], ['', '', '', '', '', '', '', '', '', '', '', '', '', '', '', '', '', '', '', '', '', '', '', '', ''], ['', '', '', '', '', '', '', '', '', '', '', '', '', '', '', '', '', '', '', '', '', '', '', '', ''], ['', '', '', '', '', '', '', '', '', '', '', '', '', '', '', '', '', '', '', '', '', '', '', '', ''], ['', '', '', '', '', '', '', '', '', '', '', '', '', '', '', '', '', '', '', '', '', '', '', '', ''], ['', '', '', '', '', '', '', '', '', '', '', '', '', '', '', '', '', '', '', '', '', '', '', '', ''], ['', '', '', '', '', '', '', '', '', '', '', '', '', '', '', '', '', '', '', '', '', '', '', '', ''], ['', '', '', '', '', '', '', '', '', '', '', '', '', '', '', '', '', '', '', '', '', '', '', '', ''], ['', '', '', '', '', '', '', '', '', '', '', '', '', '', '', '', '', '', '', '', '', '', '', '', ''], ['', '', '', '', '', '', '', '', '', '', '', '', '', '', '', '', '', '', '', '', '', '', '', '', ''], ['', '', '', '', '', '', '', '', '', '', '', '', '', '', '', '', '', '', '', '', '', '', '', '', ''], ['', '', '', '', '', '', '', '', '', '', '', '', '', '', '', '', '', '', '', '', '', '', '', '', ''], ['', '', '', '', '', '', '', '', '', '', '', '', '', '', '', '', '', '', '', '', '', '', '', '', ''], ['', '', '', '', '', '', '', '', '', '', '', '', '', '', '', '', '', '', '', '', '', '', '', '', ''], ['', '', '', '', '', '', '', '', '', '', '', '', '', '', '', '', '', '', '', '', '', '', '', '', ''], ['', '', '', '', '', '', '', '', '', '', '', '', '', '', '', '', '', '', '', '', '', '', '', '', ''], ['', '', '', '', '', '', '', '', '', '', '', '', '', '', '', '', '', '', '', '', '', '', '', '', ''], ['', '', '', '', '', '', '', '', '', '', '', '', '', '', '', '', '', '', '', '', '', '', '', '', ''], ['', '', '', '', '', '', '', '', '', '', '', '', '', '', '', '', '', '', '', '', '', '', '', '', ''], ['', '', '', '', '', '', '', '', '', '', '', '', '', '', '', '', '', '', '', '', '', '', '', '', ''], ['', '', '', '', '', '', '', '', '', '', '', '', '', '', '', '', '', '', '', '', '', '', '', '', ''], ['', '', '', '', '', '', '', '', '', '', '', '', '', '', '', '', '', '', '', '', '', '', '', '', ''], ['', '', '', '', '', '', '', '', '', '', '', '', '', '', '', '', '', '', '', '', '', '', '', '', ''], ['', '', '', '', '', '', '', '', '', '', '', '', '', '', '', '', '', '', '', '', '', '', '', '', ''], ['', '', '', '', '', '', '', '', '', '', '', '', '', '', '', '', '', '', '', '', '', '', '', '', ''], ['', '', '', '', '', '', '', '', '', '', '', '', '', '', '', '', '', '', '', '', '', '', '', '', ''], ['', '', '', '', '', '', '', '', '', '', '', '', '', '', '', '', '', '', '', '', '', '', '', '', ''], ['', '', '', '', '', '', '', '', '', '', '', '', '', '', '', '', '', '', '', '', '', '', '', '', ''], ['', '', '', '', '', '', '', '', '', '', '', '', '', '', '', '', '', '', '', '', '', '', '', '', ''], ['', '', '', '', '', '', '', '', '', '', '', '', '', '', '', '', '', '', '', '', '', '', '', '', ''], ['', '', '', '', '', '', '', '', '', '', '', '', '', '', '', '', '', '', '', '', '', '', '', '', '']]\n"
          ]
        }
      ]
    },
    {
      "cell_type": "code",
      "source": [
        "\n",
        "unordered_boxes = []\n",
        "\n",
        "for i in vert_lines:\n",
        "  print(vert_boxes[i])\n",
        "  unordered_boxes.append(vert_boxes[i][0])"
      ],
      "metadata": {
        "colab": {
          "base_uri": "https://localhost:8080/"
        },
        "id": "sSrupaRZIAk_",
        "outputId": "468381ff-ac45-40db-a184-6e07ff660a3b"
      },
      "execution_count": 41,
      "outputs": [
        {
          "output_type": "stream",
          "name": "stdout",
          "text": [
            "[2398, 0, 2507, 5352]\n",
            "[2600, 0, 2807, 5352]\n",
            "[3021, 0, 3178, 5352]\n",
            "[5531, 0, 5622, 5352]\n",
            "[5729, 0, 5919, 5352]\n",
            "[6142, 0, 6299, 5352]\n",
            "[743, 0, 1024, 5352]\n",
            "[6274, 0, 6414, 5352]\n",
            "[3599, 0, 3690, 5352]\n",
            "[4152, 0, 4260, 5352]\n",
            "[6786, 0, 6976, 5352]\n",
            "[7050, 0, 7207, 5352]\n",
            "[1106, 0, 1230, 5352]\n",
            "[1502, 0, 1956, 5352]\n",
            "[6711, 0, 6786, 5352]\n",
            "[4879, 0, 5292, 5352]\n",
            "[7512, 0, 7818, 5352]\n",
            "[479, 0, 570, 5352]\n",
            "[4301, 0, 4615, 5352]\n",
            "[4672, 0, 4920, 5352]\n",
            "[1196, 0, 1511, 5352]\n",
            "[7826, 0, 7875, 5352]\n",
            "[3806, 0, 4169, 5352]\n",
            "[7182, 0, 7339, 5352]\n",
            "[6472, 0, 6612, 5352]\n"
          ]
        }
      ]
    },
    {
      "cell_type": "code",
      "source": [
        "ordered_boxes = np.argsort(unordered_boxes)\n",
        "print(ordered_boxes)"
      ],
      "metadata": {
        "colab": {
          "base_uri": "https://localhost:8080/"
        },
        "id": "lRMlVNh_HuJV",
        "outputId": "66d5d2a5-c93f-4a4d-84cd-f60d8ffd4f3b"
      },
      "execution_count": 42,
      "outputs": [
        {
          "output_type": "stream",
          "name": "stdout",
          "text": [
            "[17  6 12 20 13  0  1  2  8 22  9 18 19 15  3  4  5  7 24 14 10 11 23 16\n",
            " 21]\n"
          ]
        }
      ]
    },
    {
      "cell_type": "code",
      "source": [
        "def intersection(box_1, box_2):\n",
        "  return [box_2[0], box_1[1],box_2[2], box_1[3]]"
      ],
      "metadata": {
        "id": "AHHaxKUuC6jQ"
      },
      "execution_count": 43,
      "outputs": []
    },
    {
      "cell_type": "code",
      "source": [
        "def iou(box_1, box_2):\n",
        "\n",
        "  x_1 = max(box_1[0], box_2[0])\n",
        "  y_1 = max(box_1[1], box_2[1])\n",
        "  x_2 = min(box_1[2], box_2[2])\n",
        "  y_2 = min(box_1[3], box_2[3])\n",
        "\n",
        "  inter = abs(max((x_2 - x_1, 0)) * max((y_2 - y_1), 0))\n",
        "  if inter == 0:\n",
        "      return 0\n",
        "      \n",
        "  box_1_area = abs((box_1[2] - box_1[0]) * (box_1[3] - box_1[1]))\n",
        "  box_2_area = abs((box_2[2] - box_2[0]) * (box_2[3] - box_2[1]))\n",
        "  \n",
        "  return inter / float(box_1_area + box_2_area - inter)"
      ],
      "metadata": {
        "id": "fDVb0DkxJSIf"
      },
      "execution_count": 44,
      "outputs": []
    },
    {
      "cell_type": "code",
      "source": [
        "for i in range(len(horiz_lines)):\n",
        "  for j in range(len(vert_lines)):\n",
        "    resultant = intersection(horiz_boxes[horiz_lines[i]], vert_boxes[vert_lines[ordered_boxes[j]]] )\n",
        "\n",
        "    for b in range(len(boxes)):\n",
        "      the_box = [boxes[b][0][0],boxes[b][0][1],boxes[b][2][0],boxes[b][2][1]]\n",
        "      if(iou(resultant,the_box)>0.1):\n",
        "        out_array[i][j] = texts[b]"
      ],
      "metadata": {
        "id": "LWGhCwg6BIoL"
      },
      "execution_count": 45,
      "outputs": []
    },
    {
      "cell_type": "code",
      "source": [
        "out_array=np.array(out_array)"
      ],
      "metadata": {
        "id": "c4tEY9LGNIM9"
      },
      "execution_count": 46,
      "outputs": []
    },
    {
      "cell_type": "code",
      "source": [
        "out_array"
      ],
      "metadata": {
        "id": "_ekto4-Ymxv2",
        "outputId": "95c3c9e2-ce7f-4df3-b50a-0f1dc5eef356",
        "colab": {
          "base_uri": "https://localhost:8080/"
        }
      },
      "execution_count": 47,
      "outputs": [
        {
          "output_type": "execute_result",
          "data": {
            "text/plain": [
              "array([['', '', '', ..., '', '', ''],\n",
              "       ['SR.NO', '', '', ..., '', '', ''],\n",
              "       ['1.0', '', '', ..., '', '', ''],\n",
              "       ...,\n",
              "       ['8.0', '', '', ..., 'MRJN TP-I3', '', ''],\n",
              "       ['18.02',\n",
              "        '6\"(15% MM CABLE TRAY)- LADDER TYPE (BENDING RADIUS- 12\")', '',\n",
              "        ..., '', 'AUDI ARABIA', ''],\n",
              "       ['', '', '', ..., '', '00600A', '']], dtype='<U56')"
            ]
          },
          "metadata": {},
          "execution_count": 47
        }
      ]
    },
    {
      "cell_type": "code",
      "source": [
        "pd.DataFrame(out_array).to_csv('sample.csv')"
      ],
      "metadata": {
        "id": "D8UdX80wBI9V"
      },
      "execution_count": 48,
      "outputs": []
    },
    {
      "cell_type": "markdown",
      "source": [
        "## Merging Cells"
      ],
      "metadata": {
        "id": "E693Ela3qhLx"
      }
    },
    {
      "cell_type": "code",
      "source": [
        "current_bank=['']*len(out_array[0,:])\n",
        "print(current_bank)"
      ],
      "metadata": {
        "colab": {
          "base_uri": "https://localhost:8080/"
        },
        "id": "XNcX7fEWPDfw",
        "outputId": "06cb1313-e8b8-4252-d305-f03fc03d14ed"
      },
      "execution_count": null,
      "outputs": [
        {
          "output_type": "stream",
          "name": "stdout",
          "text": [
            "['', '', '', '', '', '', '']\n"
          ]
        }
      ]
    },
    {
      "cell_type": "code",
      "source": [
        "def empty(arr):\n",
        "  for i in arr:\n",
        "    if i=='':\n",
        "      return True\n",
        "  return False"
      ],
      "metadata": {
        "id": "TTF5ojcCQJKR"
      },
      "execution_count": null,
      "outputs": []
    },
    {
      "cell_type": "code",
      "source": [
        "cleaned_array=[]"
      ],
      "metadata": {
        "id": "3w1amnEXSVSB"
      },
      "execution_count": null,
      "outputs": []
    },
    {
      "cell_type": "code",
      "source": [
        "for i in range(len(out_array)):\n",
        "  if not empty(out_array[i]):\n",
        "    current_bank=[out_array[i][j] for j in range(len(out_array[i]))]\n",
        "    cleaned_array.append(current_bank)\n",
        "    not_empty=True\n",
        "  else:\n",
        "    for j in range(len(out_array[i])):\n",
        "      current_bank[j]+=' '+out_array[i][j]\n",
        "    print('-->',current_bank)\n",
        "cleaned_array=np.array(cleaned_array)\n",
        "print(cleaned_array)"
      ],
      "metadata": {
        "id": "W_q9e2EkPepQ",
        "colab": {
          "base_uri": "https://localhost:8080/"
        },
        "outputId": "fba25f38-1e56-45c3-88fe-2211d38d4dca"
      },
      "execution_count": null,
      "outputs": [
        {
          "output_type": "stream",
          "name": "stdout",
          "text": [
            "[['Model' 'Updates (105)' 'Epochs' 'Hours' 'GPU' 'Train NLL' 'Dev.NLL']\n",
            " ['RNNenc-30' '8.46' '6.4' '109' 'TITAN BLACK' '28.1' '53.0']\n",
            " ['RNNenc-50' '6.00' '4.5' '108' 'Quadro K-6000' '44.0' '43.6']\n",
            " ['RNNsearch-30' '4.71' '3.6' '113' 'TITAN BLACK' '26.7' '47.2']\n",
            " ['RNNsearch-50' '2.88' '2.2' '111' 'Quadro K-6000' '40.7' '38.1']\n",
            " ['RNNsearch-50*' '6.67' '5.0' '252' 'Quadro K-6000' '36.7' '35.2']]\n"
          ]
        }
      ]
    },
    {
      "cell_type": "code",
      "source": [
        "pd.DataFrame(cleaned_array).to_csv('cleaned.csv')"
      ],
      "metadata": {
        "id": "RZltyMmD_E68"
      },
      "execution_count": null,
      "outputs": []
    },
    {
      "cell_type": "markdown",
      "source": [
        "# Convert to OWL Format"
      ],
      "metadata": {
        "id": "M9rH5mX9Mx7g"
      }
    },
    {
      "cell_type": "markdown",
      "source": [
        "# **CSV to Text**"
      ],
      "metadata": {
        "id": "SqFdbM634H5w"
      }
    },
    {
      "cell_type": "code",
      "source": [
        "import  jpype     \n",
        "import  asposecells  \n",
        "\n",
        "\n",
        "jpype.startJVM() \n",
        "from asposecells.api import Workbook\n",
        "\n",
        "workbook = Workbook(\"/content/sample.csv\")\n",
        "workbook.save(\"Output.docx\")\n",
        "jpype.shutdownJVM()"
      ],
      "metadata": {
        "id": "949GB9T1_Go7",
        "colab": {
          "base_uri": "https://localhost:8080/",
          "height": 373
        },
        "outputId": "d3bf9a55-8248-459c-8eb6-c2c67e5a84b3"
      },
      "execution_count": null,
      "outputs": [
        {
          "output_type": "error",
          "ename": "ModuleNotFoundError",
          "evalue": "ignored",
          "traceback": [
            "\u001b[0;31m---------------------------------------------------------------------------\u001b[0m",
            "\u001b[0;31mModuleNotFoundError\u001b[0m                       Traceback (most recent call last)",
            "\u001b[0;32m<ipython-input-52-0cc478de6e7d>\u001b[0m in \u001b[0;36m<module>\u001b[0;34m\u001b[0m\n\u001b[0;32m----> 1\u001b[0;31m \u001b[0;32mimport\u001b[0m  \u001b[0mjpype\u001b[0m\u001b[0;34m\u001b[0m\u001b[0;34m\u001b[0m\u001b[0m\n\u001b[0m\u001b[1;32m      2\u001b[0m \u001b[0;32mimport\u001b[0m  \u001b[0masposecells\u001b[0m\u001b[0;34m\u001b[0m\u001b[0;34m\u001b[0m\u001b[0m\n\u001b[1;32m      3\u001b[0m \u001b[0;34m\u001b[0m\u001b[0m\n\u001b[1;32m      4\u001b[0m \u001b[0;34m\u001b[0m\u001b[0m\n\u001b[1;32m      5\u001b[0m \u001b[0mjpype\u001b[0m\u001b[0;34m.\u001b[0m\u001b[0mstartJVM\u001b[0m\u001b[0;34m(\u001b[0m\u001b[0;34m)\u001b[0m\u001b[0;34m\u001b[0m\u001b[0;34m\u001b[0m\u001b[0m\n",
            "\u001b[0;31mModuleNotFoundError\u001b[0m: No module named 'jpype'",
            "",
            "\u001b[0;31m---------------------------------------------------------------------------\u001b[0;32m\nNOTE: If your import is failing due to a missing package, you can\nmanually install dependencies using either !pip or !apt.\n\nTo view examples of installing some common dependencies, click the\n\"Open Examples\" button below.\n\u001b[0;31m---------------------------------------------------------------------------\u001b[0m\n"
          ],
          "errorDetails": {
            "actions": [
              {
                "action": "open_url",
                "actionText": "Open Examples",
                "url": "/notebooks/snippets/importing_libraries.ipynb"
              }
            ]
          }
        }
      ]
    },
    {
      "cell_type": "code",
      "source": [],
      "metadata": {
        "id": "eIGJDS7u4DLS"
      },
      "execution_count": null,
      "outputs": []
    },
    {
      "cell_type": "code",
      "source": [],
      "metadata": {
        "id": "ziHBaaCn4DN2"
      },
      "execution_count": null,
      "outputs": []
    },
    {
      "cell_type": "markdown",
      "source": [
        "# Brighten Image (For Anyone dealing with PDFs created from scanned images)"
      ],
      "metadata": {
        "id": "FIzj02CHqce7"
      }
    },
    {
      "cell_type": "code",
      "source": [
        "from PIL import Image, ImageEnhance\n",
        "\n",
        "#read the image\n",
        "im = Image.open(\"ext_im.jpg\")\n",
        "\n",
        "#image brightness enhancer\n",
        "enhancer = ImageEnhance.Brightness(im)\n",
        "\n",
        "factor = 1 #gives original image\n",
        "im_output = enhancer.enhance(factor)\n",
        "im_output.save('ext_im-1.jpg')\n",
        "\n",
        "factor = 1.5## brightens the image\n",
        "im_output = enhancer.enhance(factor)\n",
        "im_output.save('ext_im-2.jpg')\n"
      ],
      "metadata": {
        "id": "vnzqj5q34DQk"
      },
      "execution_count": null,
      "outputs": []
    },
    {
      "cell_type": "code",
      "source": [],
      "metadata": {
        "id": "arQSfE2br7YT"
      },
      "execution_count": null,
      "outputs": []
    }
  ],
  "metadata": {
    "accelerator": "GPU",
    "colab": {
      "collapsed_sections": [
        "E693Ela3qhLx",
        "SqFdbM634H5w",
        "FIzj02CHqce7"
      ],
      "provenance": []
    },
    "kernelspec": {
      "display_name": "Python 3",
      "name": "python3"
    },
    "language_info": {
      "name": "python"
    }
  },
  "nbformat": 4,
  "nbformat_minor": 0
}